{
  "cells": [
    {
      "cell_type": "code",
      "execution_count": null,
      "metadata": {
        "id": "xfBMLSwDR0z4"
      },
      "outputs": [],
      "source": [
        "import pandas as pd\n",
        "import tweepy\n",
        "import time\n",
        "import warnings\n",
        "warnings.filterwarnings('ignore')"
      ]
    },
    {
      "cell_type": "code",
      "execution_count": null,
      "metadata": {
        "id": "mpUowaYTR0z6"
      },
      "outputs": [],
      "source": [
        "consumer_key=\"F2xoihNRNGPGqZWJlstb0kHuS\"\n",
        "consumer_secret=\"Cx32yanebJLE3Nqp0RkBG3YnJkeDqSE9QcqLS9LR2g5qyMmELp\"\n",
        "access_token=\"1276766738063872000-FvdQb2jNZhfPg61kfKJts00taK9NIN\"\n",
        "access_token_secret=\"mS7qUYiSVVebTBPN2PWcYULepJAbjZ8vgyNAp4OY3afeM\""
      ]
    },
    {
      "cell_type": "code",
      "execution_count": null,
      "metadata": {
        "id": "-yEV2xEPR0z7"
      },
      "outputs": [],
      "source": [
        "auth=tweepy.OAuthHandler(consumer_key, consumer_secret)\n",
        "auth.set_access_token=(access_token, access_token_secret)\n",
        "api= tweepy.API(auth, wait_on_rate_limit= True)"
      ]
    },
    {
      "cell_type": "code",
      "execution_count": null,
      "metadata": {
        "id": "UwkyhAfZR0z9"
      },
      "outputs": [],
      "source": [
        "#collapse_show\n",
        "pd.set_option('display.max_colwidth', -1)"
      ]
    },
    {
      "cell_type": "markdown",
      "metadata": {
        "id": "ChjNdrjMR0z-"
      },
      "source": [
        "## Extracting the tweets of a specific user"
      ]
    },
    {
      "cell_type": "code",
      "execution_count": null,
      "metadata": {
        "id": "JBs_xRVRR0z-"
      },
      "outputs": [],
      "source": [
        "#collapse_show\n",
        "# Doing a function implementation of the tweets\n",
        "# In this case if the tweet is retweeted we wont get full text\n",
        "def get_tweets(username, count):\n",
        "    try:\n",
        "        #creating query methods using parameters\n",
        "        tweets= tweepy.Cursor(api.user_timeline,id= username, tweet_mode=\"extended\").items(count)\n",
        "        tweet_list= [[tweet.created_at, tweet.id, tweet.full_text] for tweet in tweets]\n",
        "        #creating dataframe from tweets list\n",
        "        tweets_df=pd.DataFrame(tweet_list, columns=[\"Date\",\"Tweet_id\",\"Tweet_Text\"])\n",
        "    \n",
        "    except BaseException as e:\n",
        "        print('failed on_status', str(e))\n",
        "        time.sleep(3)\n",
        "    return tweets_df\n"
      ]
    },
    {
      "cell_type": "code",
      "execution_count": null,
      "metadata": {
        "id": "j6yzU2TyR0z_",
        "outputId": "982215a5-a9ce-4fde-9522-e49577d7ca01"
      },
      "outputs": [
        {
          "data": {
            "text/html": [
              "<div>\n",
              "<style scoped>\n",
              "    .dataframe tbody tr th:only-of-type {\n",
              "        vertical-align: middle;\n",
              "    }\n",
              "\n",
              "    .dataframe tbody tr th {\n",
              "        vertical-align: top;\n",
              "    }\n",
              "\n",
              "    .dataframe thead th {\n",
              "        text-align: right;\n",
              "    }\n",
              "</style>\n",
              "<table border=\"1\" class=\"dataframe\">\n",
              "  <thead>\n",
              "    <tr style=\"text-align: right;\">\n",
              "      <th></th>\n",
              "      <th>Date</th>\n",
              "      <th>Tweet_id</th>\n",
              "      <th>Tweet_Text</th>\n",
              "    </tr>\n",
              "  </thead>\n",
              "  <tbody>\n",
              "    <tr>\n",
              "      <th>0</th>\n",
              "      <td>2020-12-03 13:03:23</td>\n",
              "      <td>1334483368088518657</td>\n",
              "      <td>@getpeid That’s not celebrating. That’s pausing.</td>\n",
              "    </tr>\n",
              "    <tr>\n",
              "      <th>1</th>\n",
              "      <td>2020-12-03 09:20:17</td>\n",
              "      <td>1334427226339594240</td>\n",
              "      <td>Truly ambitious people don’t celebrate small milestones.</td>\n",
              "    </tr>\n",
              "    <tr>\n",
              "      <th>2</th>\n",
              "      <td>2020-12-02 18:26:36</td>\n",
              "      <td>1334202321685729282</td>\n",
              "      <td>@simonsinek Also true for viruses.</td>\n",
              "    </tr>\n",
              "    <tr>\n",
              "      <th>3</th>\n",
              "      <td>2020-12-02 08:23:03</td>\n",
              "      <td>1334050432184852485</td>\n",
              "      <td>@paraschopra @samueleonelia Make a post on making better todos. This is not very effective.</td>\n",
              "    </tr>\n",
              "    <tr>\n",
              "      <th>4</th>\n",
              "      <td>2020-12-02 05:34:29</td>\n",
              "      <td>1334008013133393920</td>\n",
              "      <td>@Nithin0dha You’re smart with your money and stake. No wonder you didn’t hesitate to invest in CRED 😜</td>\n",
              "    </tr>\n",
              "    <tr>\n",
              "      <th>5</th>\n",
              "      <td>2020-12-02 04:27:24</td>\n",
              "      <td>1333991129621139457</td>\n",
              "      <td>You are your feedback loops.</td>\n",
              "    </tr>\n",
              "    <tr>\n",
              "      <th>6</th>\n",
              "      <td>2020-12-01 14:20:51</td>\n",
              "      <td>1333778089244037121</td>\n",
              "      <td>There are no over ambitious people. Only dreamers with no plans.</td>\n",
              "    </tr>\n",
              "    <tr>\n",
              "      <th>7</th>\n",
              "      <td>2020-12-01 14:20:09</td>\n",
              "      <td>1333777913733402627</td>\n",
              "      <td>@warikoo https://t.co/kzWnlQ26Na</td>\n",
              "    </tr>\n",
              "    <tr>\n",
              "      <th>8</th>\n",
              "      <td>2020-12-01 14:10:16</td>\n",
              "      <td>1333775427672838144</td>\n",
              "      <td>@thepavantej @ShaswatShetty They have a plan.</td>\n",
              "    </tr>\n",
              "    <tr>\n",
              "      <th>9</th>\n",
              "      <td>2020-12-01 13:57:37</td>\n",
              "      <td>1333772241025134597</td>\n",
              "      <td>@ShaswatShetty Yes. If they lack maturity.</td>\n",
              "    </tr>\n",
              "  </tbody>\n",
              "</table>\n",
              "</div>"
            ],
            "text/plain": [
              "                 Date             Tweet_id  \\\n",
              "0 2020-12-03 13:03:23  1334483368088518657   \n",
              "1 2020-12-03 09:20:17  1334427226339594240   \n",
              "2 2020-12-02 18:26:36  1334202321685729282   \n",
              "3 2020-12-02 08:23:03  1334050432184852485   \n",
              "4 2020-12-02 05:34:29  1334008013133393920   \n",
              "5 2020-12-02 04:27:24  1333991129621139457   \n",
              "6 2020-12-01 14:20:51  1333778089244037121   \n",
              "7 2020-12-01 14:20:09  1333777913733402627   \n",
              "8 2020-12-01 14:10:16  1333775427672838144   \n",
              "9 2020-12-01 13:57:37  1333772241025134597   \n",
              "\n",
              "                                                                                              Tweet_Text  \n",
              "0  @getpeid That’s not celebrating. That’s pausing.                                                       \n",
              "1  Truly ambitious people don’t celebrate small milestones.                                               \n",
              "2  @simonsinek Also true for viruses.                                                                     \n",
              "3  @paraschopra @samueleonelia Make a post on making better todos. This is not very effective.            \n",
              "4  @Nithin0dha You’re smart with your money and stake. No wonder you didn’t hesitate to invest in CRED 😜  \n",
              "5  You are your feedback loops.                                                                           \n",
              "6  There are no over ambitious people. Only dreamers with no plans.                                       \n",
              "7  @warikoo https://t.co/kzWnlQ26Na                                                                       \n",
              "8  @thepavantej @ShaswatShetty They have a plan.                                                          \n",
              "9  @ShaswatShetty Yes. If they lack maturity.                                                             "
            ]
          },
          "execution_count": 15,
          "metadata": {},
          "output_type": "execute_result"
        }
      ],
      "source": [
        "#extracting the latest 10 twitters shared by Kunal behl\n",
        "df=get_tweets(\"kunalb11\",10)\n",
        "df"
      ]
    },
    {
      "cell_type": "markdown",
      "metadata": {
        "id": "alA105c5R00A"
      },
      "source": [
        "## Extracting tweets from a perticular string"
      ]
    },
    {
      "cell_type": "code",
      "execution_count": null,
      "metadata": {
        "id": "kSPdDkXbR00B"
      },
      "outputs": [],
      "source": [
        "# Getting text from a  search string\n",
        "text_query=\"IPL -filter:retweets\"\n",
        "count=10\n",
        "try:\n",
        "    #creation of query method using parameters\n",
        "    tweets= tweepy.Cursor(api.search, q=text_query, tweet_mode=\"extended\", lang='en').items(count)\n",
        "\n",
        "    #getting the information from twitter object\n",
        "    tweet_list= [[tweet.created_at, tweet.id, tweet.full_text] for tweet in tweets]\n",
        "    #creating a data frame from the list\n",
        "    tweet_df_from_query= pd.DataFrame(tweet_list, columns=['Date','tweet_id', 'tweet_text'])\n",
        "        \n",
        "except BaseException as e:\n",
        "    print('failed_on_status', str(e))\n",
        "    time.sleep(3)"
      ]
    },
    {
      "cell_type": "code",
      "execution_count": null,
      "metadata": {
        "id": "sPeX2fysR00B",
        "outputId": "c6fb5f65-b008-40ef-93a2-cec07e0308af"
      },
      "outputs": [
        {
          "data": {
            "text/html": [
              "<div>\n",
              "<style scoped>\n",
              "    .dataframe tbody tr th:only-of-type {\n",
              "        vertical-align: middle;\n",
              "    }\n",
              "\n",
              "    .dataframe tbody tr th {\n",
              "        vertical-align: top;\n",
              "    }\n",
              "\n",
              "    .dataframe thead th {\n",
              "        text-align: right;\n",
              "    }\n",
              "</style>\n",
              "<table border=\"1\" class=\"dataframe\">\n",
              "  <thead>\n",
              "    <tr style=\"text-align: right;\">\n",
              "      <th></th>\n",
              "      <th>Date</th>\n",
              "      <th>tweet_id</th>\n",
              "      <th>tweet_text</th>\n",
              "    </tr>\n",
              "  </thead>\n",
              "  <tbody>\n",
              "    <tr>\n",
              "      <th>0</th>\n",
              "      <td>2020-12-03 14:50:07</td>\n",
              "      <td>1334510230957395969</td>\n",
              "      <td>@man4_cricket You change your comment you say after ipl rohit should lead one day and t 20</td>\n",
              "    </tr>\n",
              "    <tr>\n",
              "      <th>1</th>\n",
              "      <td>2020-12-03 14:49:25</td>\n",
              "      <td>1334510052661719045</td>\n",
              "      <td>@ItsYashswiniR Will you support that gujarat team if it comes to ipl or rcb</td>\n",
              "    </tr>\n",
              "    <tr>\n",
              "      <th>2</th>\n",
              "      <td>2020-12-03 14:47:33</td>\n",
              "      <td>1334509584283803651</td>\n",
              "      <td>@T20Nomad I've an idea. See how many top Indian players in IPL in a rolling 3 year window were selected in the then T20i team. Because I'm betting it'll be pretty low.</td>\n",
              "    </tr>\n",
              "    <tr>\n",
              "      <th>3</th>\n",
              "      <td>2020-12-03 14:47:19</td>\n",
              "      <td>1334509527262261248</td>\n",
              "      <td>@ankur9811 @faizanlakhani Our PSL is far superior in terms of quality, just check inaugural addition of IPL and check our players performance...</td>\n",
              "    </tr>\n",
              "    <tr>\n",
              "      <th>4</th>\n",
              "      <td>2020-12-03 14:47:16</td>\n",
              "      <td>1334509514821951491</td>\n",
              "      <td>@T20Nomad So that's not IPL fault. Its selectors and team managements fault. We arent backing talents for long and those who has better abilities.</td>\n",
              "    </tr>\n",
              "    <tr>\n",
              "      <th>5</th>\n",
              "      <td>2020-12-03 14:45:44</td>\n",
              "      <td>1334509126093840384</td>\n",
              "      <td>@RCBTweets I think after his performance in IPL 2020, you will not publish any posts about Aaron Finch!! ... Please Don't post anything About this fraud batsman.... He is a selfish!! ... Not interested in his related post 🙄🙄</td>\n",
              "    </tr>\n",
              "    <tr>\n",
              "      <th>6</th>\n",
              "      <td>2020-12-03 14:43:17</td>\n",
              "      <td>1334508512215506945</td>\n",
              "      <td>@AstikRaj10 @Pateljayraj12 @i_asli_rohan @Srihari94027224 @Pranav14445113 @Vikram38992074 @imVkohli @ImRo45 @IPL @davidwarner31 @stevesmith49 @CricketAus @Jaspritbumrah93 @msdhoni @BCCI If I'm truly want Indian team as champion then y I opposed Kohli Captaincy</td>\n",
              "    </tr>\n",
              "    <tr>\n",
              "      <th>7</th>\n",
              "      <td>2020-12-03 14:43:17</td>\n",
              "      <td>1334508510181265409</td>\n",
              "      <td>@NithinWatto_185 IPL time lo rts effect emo bro</td>\n",
              "    </tr>\n",
              "    <tr>\n",
              "      <th>8</th>\n",
              "      <td>2020-12-03 14:43:10</td>\n",
              "      <td>1334508481920036864</td>\n",
              "      <td>@ESPNcricinfo I want Kerala back in IPL 2021. New logo of Kerala in IPL. I don't want old Kochi logo.</td>\n",
              "    </tr>\n",
              "    <tr>\n",
              "      <th>9</th>\n",
              "      <td>2020-12-03 14:43:01</td>\n",
              "      <td>1334508445253259264</td>\n",
              "      <td>Aaron Finch in T20I 👑 vs IPL 🤡\\n\\nVisible confusion 😔👍 https://t.co/q7lGNHXZGM</td>\n",
              "    </tr>\n",
              "  </tbody>\n",
              "</table>\n",
              "</div>"
            ],
            "text/plain": [
              "                 Date             tweet_id  \\\n",
              "0 2020-12-03 14:50:07  1334510230957395969   \n",
              "1 2020-12-03 14:49:25  1334510052661719045   \n",
              "2 2020-12-03 14:47:33  1334509584283803651   \n",
              "3 2020-12-03 14:47:19  1334509527262261248   \n",
              "4 2020-12-03 14:47:16  1334509514821951491   \n",
              "5 2020-12-03 14:45:44  1334509126093840384   \n",
              "6 2020-12-03 14:43:17  1334508512215506945   \n",
              "7 2020-12-03 14:43:17  1334508510181265409   \n",
              "8 2020-12-03 14:43:10  1334508481920036864   \n",
              "9 2020-12-03 14:43:01  1334508445253259264   \n",
              "\n",
              "                                                                                                                                                                                                                                                             tweet_text  \n",
              "0  @man4_cricket You change your comment you say after ipl rohit should lead one day and t 20                                                                                                                                                                            \n",
              "1  @ItsYashswiniR Will you support that gujarat team if it comes to ipl or rcb                                                                                                                                                                                           \n",
              "2  @T20Nomad I've an idea. See how many top Indian players in IPL in a rolling 3 year window were selected in the then T20i team. Because I'm betting it'll be pretty low.                                                                                               \n",
              "3  @ankur9811 @faizanlakhani Our PSL is far superior in terms of quality, just check inaugural addition of IPL and check our players performance...                                                                                                                      \n",
              "4  @T20Nomad So that's not IPL fault. Its selectors and team managements fault. We arent backing talents for long and those who has better abilities.                                                                                                                    \n",
              "5  @RCBTweets I think after his performance in IPL 2020, you will not publish any posts about Aaron Finch!! ... Please Don't post anything About this fraud batsman.... He is a selfish!! ... Not interested in his related post 🙄🙄                                      \n",
              "6  @AstikRaj10 @Pateljayraj12 @i_asli_rohan @Srihari94027224 @Pranav14445113 @Vikram38992074 @imVkohli @ImRo45 @IPL @davidwarner31 @stevesmith49 @CricketAus @Jaspritbumrah93 @msdhoni @BCCI If I'm truly want Indian team as champion then y I opposed Kohli Captaincy  \n",
              "7  @NithinWatto_185 IPL time lo rts effect emo bro                                                                                                                                                                                                                       \n",
              "8  @ESPNcricinfo I want Kerala back in IPL 2021. New logo of Kerala in IPL. I don't want old Kochi logo.                                                                                                                                                                 \n",
              "9  Aaron Finch in T20I 👑 vs IPL 🤡\\n\\nVisible confusion 😔👍 https://t.co/q7lGNHXZGM                                                                                                                                                                                        "
            ]
          },
          "execution_count": 17,
          "metadata": {},
          "output_type": "execute_result"
        }
      ],
      "source": [
        "tweet_df_from_query"
      ]
    },
    {
      "cell_type": "markdown",
      "metadata": {
        "id": "QiITBCpaR00C"
      },
      "source": [
        "-----"
      ]
    },
    {
      "cell_type": "markdown",
      "metadata": {
        "id": "tfYbzxcXR00C"
      },
      "source": [
        "# Additional Usage of the tweepy API"
      ]
    },
    {
      "cell_type": "markdown",
      "metadata": {
        "id": "lEbeu8elR00C"
      },
      "source": [
        "Documentation of tweepy API (http://docs.tweepy.org/en/latest/api.html#status-methods)"
      ]
    },
    {
      "cell_type": "markdown",
      "metadata": {
        "id": "Uv3Xo7xZR00D"
      },
      "source": [
        "## Extracting trends of a perticular region"
      ]
    },
    {
      "cell_type": "code",
      "execution_count": null,
      "metadata": {
        "id": "rISP21u5R00D"
      },
      "outputs": [],
      "source": [
        "trend=pd.DataFrame(api.trends_available())\n",
        "str(trend['country'])\n",
        "trend['country']=\"India\""
      ]
    },
    {
      "cell_type": "code",
      "execution_count": null,
      "metadata": {
        "id": "cKouLKgoR00D",
        "outputId": "02504d91-340a-45ee-dc1a-746e63d79da6"
      },
      "outputs": [
        {
          "data": {
            "text/plain": [
              "['#28YearsOfBelovedVIJAY',\n",
              " '#Abyss',\n",
              " '#DiljitDosanjh',\n",
              " '#सब_पर_भारी_कंगना',\n",
              " '#कंगना_चुपचाप_माफी_माँग',\n",
              " 'SIDHARTH SHUKLA X BBB3',\n",
              " 'Punjabi',\n",
              " 'PagarBook Lagao BusinessBadhao',\n",
              " 'Agastya',\n",
              " 'G.O.A.T',\n",
              " 'Karan Johar',\n",
              " 'Paaji',\n",
              " 'SHERNI RUBINA',\n",
              " 'marques',\n",
              " 'Hrithik Roshan',\n",
              " 'Diljeet',\n",
              " 'HIS VOICE',\n",
              " 'Jin oppa',\n",
              " 'Translate',\n",
              " 'Jhansi',\n",
              " 'Kollywood',\n",
              " 'Translation',\n",
              " 'Padma Vibhushan',\n",
              " 'BE ON TOP',\n",
              " 'Patanjali',\n",
              " '#Master',\n",
              " '#FarmersProtestDelhi2020',\n",
              " '#HappyBirthdayJin',\n",
              " '#BrokenButBeautiful',\n",
              " '#MaplestoryForJin',\n",
              " '#THANKYOUJIN',\n",
              " '#ThursdayThoughts',\n",
              " '#ThalapathyVijay',\n",
              " '#BTSJIN',\n",
              " '#தமிழர்_நாட்டை_தமிழர்_ஆள்வோம்',\n",
              " '#CBIRevealSSRMystery',\n",
              " '#JiahKhanAwaitsJustice',\n",
              " '#MiSpotify2020',\n",
              " '#WonderWoman1984',\n",
              " '#இப்போ_இல்லேன்னா_எப்பவும்_இல்ல',\n",
              " '#कंगना_रानौत_शेरनी_है',\n",
              " '#SaHad',\n",
              " '#OurSparklingGemJin',\n",
              " '#rajinikanthpolticalentry',\n",
              " '#rubam',\n",
              " '#BrightestDiamondJin',\n",
              " '#SoniaRathee',\n",
              " '#atkmbofc',\n",
              " '#CBIFile302InJiahKhanCase',\n",
              " '#PunyaPaap']"
            ]
          },
          "execution_count": 19,
          "metadata": {},
          "output_type": "execute_result"
        }
      ],
      "source": [
        "# Id 23424848 is for India and its is referenced from the query above\n",
        "[i['name'] for i in api.trends_place(id=23424848)[0]['trends']]"
      ]
    }
  ],
  "metadata": {
    "kernelspec": {
      "display_name": "Python [conda env:nlp]",
      "language": "python",
      "name": "conda-env-nlp-py"
    },
    "language_info": {
      "codemirror_mode": {
        "name": "ipython",
        "version": 3
      },
      "file_extension": ".py",
      "mimetype": "text/x-python",
      "name": "python",
      "nbconvert_exporter": "python",
      "pygments_lexer": "ipython3",
      "version": "3.8.5"
    },
    "colab": {
      "name": "2020-12-03-Twitter_Data_Scrapping.ipynb",
      "provenance": []
    }
  },
  "nbformat": 4,
  "nbformat_minor": 0
}