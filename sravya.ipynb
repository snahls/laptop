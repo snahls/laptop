{
 "cells": [
  {
   "cell_type": "code",
   "execution_count": 13,
   "metadata": {
    "execution": {
     "iopub.execute_input": "2021-10-21T05:18:03.147667Z",
     "iopub.status.busy": "2021-10-21T05:18:03.147123Z",
     "iopub.status.idle": "2021-10-21T05:18:03.151560Z",
     "shell.execute_reply": "2021-10-21T05:18:03.150840Z",
     "shell.execute_reply.started": "2021-10-21T05:18:03.147630Z"
    }
   },
   "outputs": [],
   "source": [
    "#Importing necessary libraries\n",
    "import numpy as np\n",
    "import pandas as pd\n",
    "import matplotlib.pyplot as plt\n",
    "import seaborn as sns"
   ]
  },
  {
   "cell_type": "code",
   "execution_count": 14,
   "metadata": {
    "execution": {
     "iopub.execute_input": "2021-10-21T05:18:03.154589Z",
     "iopub.status.busy": "2021-10-21T05:18:03.154330Z",
     "iopub.status.idle": "2021-10-21T05:18:04.713110Z",
     "shell.execute_reply": "2021-10-21T05:18:04.712071Z",
     "shell.execute_reply.started": "2021-10-21T05:18:03.154562Z"
    }
   },
   "outputs": [],
   "source": [
    "#Importing dataset\n",
    "df=pd.read_csv('../input/kaggle-survey-2021/kaggle_survey_2021_responses.csv')"
   ]
  },
  {
   "cell_type": "code",
   "execution_count": 15,
   "metadata": {
    "execution": {
     "iopub.execute_input": "2021-10-21T05:18:04.715665Z",
     "iopub.status.busy": "2021-10-21T05:18:04.715315Z",
     "iopub.status.idle": "2021-10-21T05:18:04.999661Z",
     "shell.execute_reply": "2021-10-21T05:18:04.998589Z",
     "shell.execute_reply.started": "2021-10-21T05:18:04.715619Z"
    }
   },
   "outputs": [],
   "source": [
    "#Get Top 5 rows\n",
    "df.head()"
   ]
  },
  {
   "cell_type": "code",
   "execution_count": 16,
   "metadata": {
    "execution": {
     "iopub.execute_input": "2021-10-21T05:18:05.001562Z",
     "iopub.status.busy": "2021-10-21T05:18:05.001256Z",
     "iopub.status.idle": "2021-10-21T05:18:05.006429Z",
     "shell.execute_reply": "2021-10-21T05:18:05.005655Z",
     "shell.execute_reply.started": "2021-10-21T05:18:05.001522Z"
    }
   },
   "outputs": [],
   "source": [
    "#Set visible columns to 500\n",
    "pd.set_option('display.max_columns',500)"
   ]
  },
  {
   "cell_type": "code",
   "execution_count": 17,
   "metadata": {
    "execution": {
     "iopub.execute_input": "2021-10-21T05:18:05.009099Z",
     "iopub.status.busy": "2021-10-21T05:18:05.008501Z",
     "iopub.status.idle": "2021-10-21T05:18:05.281993Z",
     "shell.execute_reply": "2021-10-21T05:18:05.280975Z",
     "shell.execute_reply.started": "2021-10-21T05:18:05.009044Z"
    }
   },
   "outputs": [],
   "source": [
    "#Now get Top 5 rows\n",
    "df.head()"
   ]
  },
  {
   "cell_type": "code",
   "execution_count": 18,
   "metadata": {
    "execution": {
     "iopub.execute_input": "2021-10-21T05:18:05.283647Z",
     "iopub.status.busy": "2021-10-21T05:18:05.283354Z",
     "iopub.status.idle": "2021-10-21T05:18:05.317990Z",
     "shell.execute_reply": "2021-10-21T05:18:05.317224Z",
     "shell.execute_reply.started": "2021-10-21T05:18:05.283608Z"
    }
   },
   "outputs": [],
   "source": [
    "#Information about dataset\n",
    "df.info()"
   ]
  },
  {
   "cell_type": "code",
   "execution_count": 19,
   "metadata": {
    "execution": {
     "iopub.execute_input": "2021-10-21T05:18:05.319821Z",
     "iopub.status.busy": "2021-10-21T05:18:05.319125Z",
     "iopub.status.idle": "2021-10-21T05:18:07.023654Z",
     "shell.execute_reply": "2021-10-21T05:18:07.022031Z",
     "shell.execute_reply.started": "2021-10-21T05:18:05.319785Z"
    }
   },
   "outputs": [],
   "source": [
    "#Summarize dataset\n",
    "df.describe()"
   ]
  },
  {
   "cell_type": "code",
   "execution_count": 20,
   "metadata": {
    "execution": {
     "iopub.execute_input": "2021-10-21T05:18:07.025841Z",
     "iopub.status.busy": "2021-10-21T05:18:07.025351Z",
     "iopub.status.idle": "2021-10-21T05:18:07.033262Z",
     "shell.execute_reply": "2021-10-21T05:18:07.032531Z",
     "shell.execute_reply.started": "2021-10-21T05:18:07.025796Z"
    }
   },
   "outputs": [],
   "source": [
    "#Get columns\n",
    "df.columns"
   ]
  },
  {
   "cell_type": "code",
   "execution_count": 21,
   "metadata": {
    "execution": {
     "iopub.execute_input": "2021-10-21T05:18:07.035508Z",
     "iopub.status.busy": "2021-10-21T05:18:07.034660Z",
     "iopub.status.idle": "2021-10-21T05:18:07.052715Z",
     "shell.execute_reply": "2021-10-21T05:18:07.051966Z",
     "shell.execute_reply.started": "2021-10-21T05:18:07.035433Z"
    }
   },
   "outputs": [],
   "source": [
    "#Get columns as list\n",
    "df.columns.tolist()"
   ]
  },
  {
   "cell_type": "code",
   "execution_count": 22,
   "metadata": {
    "execution": {
     "iopub.execute_input": "2021-10-21T05:18:07.054795Z",
     "iopub.status.busy": "2021-10-21T05:18:07.053881Z",
     "iopub.status.idle": "2021-10-21T05:18:08.304115Z",
     "shell.execute_reply": "2021-10-21T05:18:08.303047Z",
     "shell.execute_reply.started": "2021-10-21T05:18:07.054726Z"
    }
   },
   "outputs": [],
   "source": [
    "#Check for duplicates\n",
    "df.duplicated().sum()"
   ]
  },
  {
   "cell_type": "code",
   "execution_count": 23,
   "metadata": {
    "execution": {
     "iopub.execute_input": "2021-10-21T05:18:08.307987Z",
     "iopub.status.busy": "2021-10-21T05:18:08.307734Z",
     "iopub.status.idle": "2021-10-21T05:18:08.852687Z",
     "shell.execute_reply": "2021-10-21T05:18:08.851551Z",
     "shell.execute_reply.started": "2021-10-21T05:18:08.307959Z"
    }
   },
   "outputs": [],
   "source": [
    "#Get Percentage of Null values in each column\n",
    "df.isnull().sum()/df.shape[0]*100"
   ]
  },
  {
   "cell_type": "code",
   "execution_count": 24,
   "metadata": {
    "execution": {
     "iopub.execute_input": "2021-10-21T05:18:08.854521Z",
     "iopub.status.busy": "2021-10-21T05:18:08.854212Z",
     "iopub.status.idle": "2021-10-21T05:18:09.478278Z",
     "shell.execute_reply": "2021-10-21T05:18:09.477126Z",
     "shell.execute_reply.started": "2021-10-21T05:18:08.854481Z"
    }
   },
   "outputs": [],
   "source": [
    "#Get the count of columns with more than 80% Null values\n",
    "a=[]\n",
    "for i in df:\n",
    "    if df[i].isnull().sum()>(df.shape[0]*0.8):\n",
    "        a.append(i)\n",
    "len(a)"
   ]
  },
  {
   "cell_type": "code",
   "execution_count": 25,
   "metadata": {
    "execution": {
     "iopub.execute_input": "2021-10-21T05:18:09.480410Z",
     "iopub.status.busy": "2021-10-21T05:18:09.479567Z",
     "iopub.status.idle": "2021-10-21T05:18:09.502735Z",
     "shell.execute_reply": "2021-10-21T05:18:09.501852Z",
     "shell.execute_reply.started": "2021-10-21T05:18:09.480372Z"
    }
   },
   "outputs": [],
   "source": [
    "#Drop columns with more than 80% Null values\n",
    "df1=df.drop(a,axis=1)"
   ]
  },
  {
   "cell_type": "code",
   "execution_count": 26,
   "metadata": {
    "execution": {
     "iopub.execute_input": "2021-10-21T05:18:09.505621Z",
     "iopub.status.busy": "2021-10-21T05:18:09.504292Z",
     "iopub.status.idle": "2021-10-21T05:18:09.562325Z",
     "shell.execute_reply": "2021-10-21T05:18:09.561378Z",
     "shell.execute_reply.started": "2021-10-21T05:18:09.505563Z"
    }
   },
   "outputs": [],
   "source": [
    "#Get Top 5 rows\n",
    "df1.head()"
   ]
  },
  {
   "cell_type": "code",
   "execution_count": 27,
   "metadata": {
    "execution": {
     "iopub.execute_input": "2021-10-21T05:18:09.564562Z",
     "iopub.status.busy": "2021-10-21T05:18:09.564256Z",
     "iopub.status.idle": "2021-10-21T05:18:09.577444Z",
     "shell.execute_reply": "2021-10-21T05:18:09.576659Z",
     "shell.execute_reply.started": "2021-10-21T05:18:09.564476Z"
    }
   },
   "outputs": [],
   "source": [
    "#Get columns\n",
    "df1.columns"
   ]
  },
  {
   "cell_type": "code",
   "execution_count": 28,
   "metadata": {
    "execution": {
     "iopub.execute_input": "2021-10-21T05:18:09.579741Z",
     "iopub.status.busy": "2021-10-21T05:18:09.578729Z",
     "iopub.status.idle": "2021-10-21T05:18:10.008277Z",
     "shell.execute_reply": "2021-10-21T05:18:10.007167Z",
     "shell.execute_reply.started": "2021-10-21T05:18:09.579669Z"
    }
   },
   "outputs": [],
   "source": [
    "#Summarize\n",
    "df1.describe()"
   ]
  },
  {
   "cell_type": "code",
   "execution_count": 29,
   "metadata": {
    "execution": {
     "iopub.execute_input": "2021-10-21T05:18:10.010376Z",
     "iopub.status.busy": "2021-10-21T05:18:10.010022Z",
     "iopub.status.idle": "2021-10-21T05:18:10.015134Z",
     "shell.execute_reply": "2021-10-21T05:18:10.014518Z",
     "shell.execute_reply.started": "2021-10-21T05:18:10.010335Z"
    }
   },
   "outputs": [],
   "source": [
    "df_NoQ=df.iloc[1:]"
   ]
  },
  {
   "cell_type": "code",
   "execution_count": 30,
   "metadata": {
    "execution": {
     "iopub.execute_input": "2021-10-21T05:18:10.017361Z",
     "iopub.status.busy": "2021-10-21T05:18:10.016211Z",
     "iopub.status.idle": "2021-10-21T05:18:10.038205Z",
     "shell.execute_reply": "2021-10-21T05:18:10.036929Z",
     "shell.execute_reply.started": "2021-10-21T05:18:10.017318Z"
    }
   },
   "outputs": [],
   "source": [
    "df_NoQ['Q1'].value_counts()"
   ]
  },
  {
   "cell_type": "code",
   "execution_count": 31,
   "metadata": {
    "execution": {
     "iopub.execute_input": "2021-10-21T05:18:10.040537Z",
     "iopub.status.busy": "2021-10-21T05:18:10.039683Z",
     "iopub.status.idle": "2021-10-21T05:18:10.387040Z",
     "shell.execute_reply": "2021-10-21T05:18:10.386092Z",
     "shell.execute_reply.started": "2021-10-21T05:18:10.040487Z"
    }
   },
   "outputs": [],
   "source": [
    "sns.countplot(x='Q1',data=df_NoQ,order=df_NoQ['Q1'].value_counts().index)"
   ]
  },
  {
   "cell_type": "code",
   "execution_count": 32,
   "metadata": {
    "execution": {
     "iopub.execute_input": "2021-10-21T05:18:10.389761Z",
     "iopub.status.busy": "2021-10-21T05:18:10.388589Z",
     "iopub.status.idle": "2021-10-21T05:18:10.403037Z",
     "shell.execute_reply": "2021-10-21T05:18:10.402259Z",
     "shell.execute_reply.started": "2021-10-21T05:18:10.389701Z"
    }
   },
   "outputs": [],
   "source": [
    "df_NoQ['Q2'].value_counts()"
   ]
  },
  {
   "cell_type": "code",
   "execution_count": 33,
   "metadata": {
    "execution": {
     "iopub.execute_input": "2021-10-21T05:18:10.404698Z",
     "iopub.status.busy": "2021-10-21T05:18:10.404239Z",
     "iopub.status.idle": "2021-10-21T05:18:10.689011Z",
     "shell.execute_reply": "2021-10-21T05:18:10.687737Z",
     "shell.execute_reply.started": "2021-10-21T05:18:10.404663Z"
    }
   },
   "outputs": [],
   "source": [
    "plt.pie(df_NoQ['Q2'].value_counts(),labels=df_NoQ['Q2'].value_counts().index,explode=[0,0,0.4,0.2,0.1],startangle=90)\n",
    "plt.legend()\n",
    "plt.show()"
   ]
  },
  {
   "cell_type": "code",
   "execution_count": 34,
   "metadata": {
    "execution": {
     "iopub.execute_input": "2021-10-21T05:18:10.690714Z",
     "iopub.status.busy": "2021-10-21T05:18:10.690476Z",
     "iopub.status.idle": "2021-10-21T05:18:10.704836Z",
     "shell.execute_reply": "2021-10-21T05:18:10.703777Z",
     "shell.execute_reply.started": "2021-10-21T05:18:10.690686Z"
    }
   },
   "outputs": [],
   "source": [
    "df_NoQ['Q2'].value_counts()"
   ]
  },
  {
   "cell_type": "code",
   "execution_count": 35,
   "metadata": {
    "execution": {
     "iopub.execute_input": "2021-10-21T05:18:10.706918Z",
     "iopub.status.busy": "2021-10-21T05:18:10.706484Z",
     "iopub.status.idle": "2021-10-21T05:18:11.884864Z",
     "shell.execute_reply": "2021-10-21T05:18:11.883782Z",
     "shell.execute_reply.started": "2021-10-21T05:18:10.706873Z"
    }
   },
   "outputs": [],
   "source": [
    "l=sns.countplot(x='Q3',data=df_NoQ,order=df_NoQ['Q3'].value_counts().index)\n",
    "l.set_xticklabels(labels=df_NoQ['Q3'].value_counts().index,rotation=90,fontsize=6)\n",
    "plt.show()"
   ]
  },
  {
   "cell_type": "code",
   "execution_count": 36,
   "metadata": {
    "execution": {
     "iopub.execute_input": "2021-10-21T05:18:11.887014Z",
     "iopub.status.busy": "2021-10-21T05:18:11.886713Z",
     "iopub.status.idle": "2021-10-21T05:18:11.896473Z",
     "shell.execute_reply": "2021-10-21T05:18:11.895266Z",
     "shell.execute_reply.started": "2021-10-21T05:18:11.886982Z"
    }
   },
   "outputs": [],
   "source": [
    "df_NoQ['Q3'].nunique()"
   ]
  },
  {
   "cell_type": "code",
   "execution_count": 37,
   "metadata": {
    "execution": {
     "iopub.execute_input": "2021-10-21T05:18:11.899125Z",
     "iopub.status.busy": "2021-10-21T05:18:11.898127Z",
     "iopub.status.idle": "2021-10-21T05:18:11.914106Z",
     "shell.execute_reply": "2021-10-21T05:18:11.913452Z",
     "shell.execute_reply.started": "2021-10-21T05:18:11.899070Z"
    }
   },
   "outputs": [],
   "source": [
    "df_NoQ['Q4'].value_counts()"
   ]
  },
  {
   "cell_type": "code",
   "execution_count": 38,
   "metadata": {
    "execution": {
     "iopub.execute_input": "2021-10-21T05:18:11.915632Z",
     "iopub.status.busy": "2021-10-21T05:18:11.915397Z",
     "iopub.status.idle": "2021-10-21T05:18:12.190729Z",
     "shell.execute_reply": "2021-10-21T05:18:12.189622Z",
     "shell.execute_reply.started": "2021-10-21T05:18:11.915604Z"
    }
   },
   "outputs": [],
   "source": [
    "l=sns.countplot(x='Q4',data=df_NoQ,order=df_NoQ['Q4'].value_counts().index)\n",
    "l.set_xticklabels(labels=df_NoQ['Q4'].value_counts().index,rotation=90)\n",
    "plt.show()"
   ]
  },
  {
   "cell_type": "code",
   "execution_count": 39,
   "metadata": {
    "execution": {
     "iopub.execute_input": "2021-10-21T05:18:12.193029Z",
     "iopub.status.busy": "2021-10-21T05:18:12.192691Z",
     "iopub.status.idle": "2021-10-21T05:18:12.679471Z",
     "shell.execute_reply": "2021-10-21T05:18:12.678266Z",
     "shell.execute_reply.started": "2021-10-21T05:18:12.192988Z"
    }
   },
   "outputs": [],
   "source": [
    "l=sns.countplot(x='Q4',data=df_NoQ,order=df_NoQ['Q4'].value_counts().index,hue=df_NoQ['Q2'])\n",
    "l.set_xticklabels(labels=df_NoQ['Q4'].value_counts().index,rotation=90)\n",
    "plt.show()"
   ]
  },
  {
   "cell_type": "code",
   "execution_count": 40,
   "metadata": {
    "execution": {
     "iopub.execute_input": "2021-10-21T05:18:12.682311Z",
     "iopub.status.busy": "2021-10-21T05:18:12.681329Z",
     "iopub.status.idle": "2021-10-21T05:18:12.698937Z",
     "shell.execute_reply": "2021-10-21T05:18:12.697606Z",
     "shell.execute_reply.started": "2021-10-21T05:18:12.682259Z"
    }
   },
   "outputs": [],
   "source": [
    "df_NoQ['Q5'].value_counts()"
   ]
  },
  {
   "cell_type": "code",
   "execution_count": 41,
   "metadata": {
    "execution": {
     "iopub.execute_input": "2021-10-21T05:18:12.706231Z",
     "iopub.status.busy": "2021-10-21T05:18:12.705876Z",
     "iopub.status.idle": "2021-10-21T05:18:13.054918Z",
     "shell.execute_reply": "2021-10-21T05:18:13.053797Z",
     "shell.execute_reply.started": "2021-10-21T05:18:12.706189Z"
    }
   },
   "outputs": [],
   "source": [
    "l=sns.countplot(x='Q5',data=df_NoQ,order=df_NoQ['Q5'].value_counts().index)\n",
    "l.set_xticklabels(labels=df_NoQ['Q5'].value_counts().index,rotation=90)\n",
    "plt.show()"
   ]
  },
  {
   "cell_type": "code",
   "execution_count": 42,
   "metadata": {
    "execution": {
     "iopub.execute_input": "2021-10-21T05:18:13.056944Z",
     "iopub.status.busy": "2021-10-21T05:18:13.056596Z",
     "iopub.status.idle": "2021-10-21T05:18:13.901238Z",
     "shell.execute_reply": "2021-10-21T05:18:13.900264Z",
     "shell.execute_reply.started": "2021-10-21T05:18:13.056896Z"
    }
   },
   "outputs": [],
   "source": [
    "l=sns.countplot(x='Q5',data=df_NoQ,order=df_NoQ['Q5'].value_counts().index,hue=df_NoQ['Q2'])\n",
    "l.set_xticklabels(labels=df_NoQ['Q5'].value_counts().index,rotation=90)\n",
    "plt.show()"
   ]
  },
  {
   "cell_type": "code",
   "execution_count": 43,
   "metadata": {
    "execution": {
     "iopub.execute_input": "2021-10-21T05:18:13.902909Z",
     "iopub.status.busy": "2021-10-21T05:18:13.902640Z",
     "iopub.status.idle": "2021-10-21T05:18:13.917076Z",
     "shell.execute_reply": "2021-10-21T05:18:13.916017Z",
     "shell.execute_reply.started": "2021-10-21T05:18:13.902876Z"
    }
   },
   "outputs": [],
   "source": [
    "df_NoQ['Q6'].value_counts()"
   ]
  },
  {
   "cell_type": "code",
   "execution_count": 44,
   "metadata": {
    "execution": {
     "iopub.execute_input": "2021-10-21T05:18:13.919850Z",
     "iopub.status.busy": "2021-10-21T05:18:13.918907Z",
     "iopub.status.idle": "2021-10-21T05:18:14.193679Z",
     "shell.execute_reply": "2021-10-21T05:18:14.192711Z",
     "shell.execute_reply.started": "2021-10-21T05:18:13.919797Z"
    }
   },
   "outputs": [],
   "source": [
    "l=sns.countplot(x='Q6',data=df_NoQ,order=df_NoQ['Q6'].value_counts().index)\n",
    "l.set_xticklabels(labels=df_NoQ['Q6'].value_counts().index,rotation=90)\n",
    "plt.show()"
   ]
  },
  {
   "cell_type": "code",
   "execution_count": 45,
   "metadata": {
    "execution": {
     "iopub.execute_input": "2021-10-21T05:18:14.195309Z",
     "iopub.status.busy": "2021-10-21T05:18:14.195041Z",
     "iopub.status.idle": "2021-10-21T05:18:14.618501Z",
     "shell.execute_reply": "2021-10-21T05:18:14.617615Z",
     "shell.execute_reply.started": "2021-10-21T05:18:14.195283Z"
    }
   },
   "outputs": [],
   "source": [
    "l=sns.countplot(x='Q6',data=df_NoQ,order=df_NoQ['Q6'].value_counts().index,hue=df_NoQ['Q2'])\n",
    "l.set_xticklabels(labels=df_NoQ['Q6'].value_counts().index,rotation=90)\n",
    "plt.show()"
   ]
  },
  {
   "cell_type": "code",
   "execution_count": 46,
   "metadata": {
    "execution": {
     "iopub.execute_input": "2021-10-21T05:18:14.620477Z",
     "iopub.status.busy": "2021-10-21T05:18:14.619993Z",
     "iopub.status.idle": "2021-10-21T05:18:14.680458Z",
     "shell.execute_reply": "2021-10-21T05:18:14.679642Z",
     "shell.execute_reply.started": "2021-10-21T05:18:14.620441Z"
    }
   },
   "outputs": [],
   "source": [
    "Q7_parts=list(filter(lambda x: x.split('_')[0]=='Q7' ,df_NoQ.columns))\n",
    "dfQ7=pd.DataFrame(df_NoQ[Q7_parts].stack().tolist(),columns=['Languages'])\n",
    "dfQ7['Languages'].value_counts()"
   ]
  },
  {
   "cell_type": "code",
   "execution_count": 47,
   "metadata": {
    "execution": {
     "iopub.execute_input": "2021-10-21T05:18:14.681953Z",
     "iopub.status.busy": "2021-10-21T05:18:14.681731Z",
     "iopub.status.idle": "2021-10-21T05:18:14.998831Z",
     "shell.execute_reply": "2021-10-21T05:18:14.998128Z",
     "shell.execute_reply.started": "2021-10-21T05:18:14.681926Z"
    }
   },
   "outputs": [],
   "source": [
    "l=sns.countplot(x='Languages',data=dfQ7,order=dfQ7['Languages'].value_counts().index)\n",
    "l.set_xticklabels(labels=dfQ7['Languages'].value_counts().index,rotation=90)\n",
    "plt.show()"
   ]
  },
  {
   "cell_type": "code",
   "execution_count": 48,
   "metadata": {
    "execution": {
     "iopub.execute_input": "2021-10-21T05:18:15.000157Z",
     "iopub.status.busy": "2021-10-21T05:18:14.999793Z",
     "iopub.status.idle": "2021-10-21T05:18:15.012567Z",
     "shell.execute_reply": "2021-10-21T05:18:15.011638Z",
     "shell.execute_reply.started": "2021-10-21T05:18:15.000121Z"
    }
   },
   "outputs": [],
   "source": [
    "df_NoQ['Q8'].value_counts()"
   ]
  },
  {
   "cell_type": "code",
   "execution_count": 49,
   "metadata": {
    "execution": {
     "iopub.execute_input": "2021-10-21T05:18:15.014640Z",
     "iopub.status.busy": "2021-10-21T05:18:15.014137Z",
     "iopub.status.idle": "2021-10-21T05:18:15.308869Z",
     "shell.execute_reply": "2021-10-21T05:18:15.308000Z",
     "shell.execute_reply.started": "2021-10-21T05:18:15.014598Z"
    }
   },
   "outputs": [],
   "source": [
    "l=sns.countplot(x='Q8',data=df_NoQ,order=df_NoQ['Q8'].value_counts().index)\n",
    "l.set_xticklabels(labels=df_NoQ['Q8'].value_counts().index,rotation=90)\n",
    "plt.show()"
   ]
  },
  {
   "cell_type": "code",
   "execution_count": 50,
   "metadata": {
    "execution": {
     "iopub.execute_input": "2021-10-21T05:18:15.310366Z",
     "iopub.status.busy": "2021-10-21T05:18:15.310021Z",
     "iopub.status.idle": "2021-10-21T05:18:15.930978Z",
     "shell.execute_reply": "2021-10-21T05:18:15.929999Z",
     "shell.execute_reply.started": "2021-10-21T05:18:15.310333Z"
    }
   },
   "outputs": [],
   "source": [
    "l=sns.countplot(x='Q8',data=df_NoQ,order=df_NoQ['Q8'].value_counts().index,hue=df_NoQ['Q2'])\n",
    "l.set_xticklabels(labels=df_NoQ['Q8'].value_counts().index,rotation=90)\n",
    "plt.show()"
   ]
  },
  {
   "cell_type": "code",
   "execution_count": 51,
   "metadata": {
    "execution": {
     "iopub.execute_input": "2021-10-21T05:18:15.932789Z",
     "iopub.status.busy": "2021-10-21T05:18:15.932493Z",
     "iopub.status.idle": "2021-10-21T05:18:16.007011Z",
     "shell.execute_reply": "2021-10-21T05:18:16.006107Z",
     "shell.execute_reply.started": "2021-10-21T05:18:15.932751Z"
    }
   },
   "outputs": [],
   "source": [
    "Q9_parts=list(filter(lambda x: x.split('_')[0]=='Q9' ,df_NoQ.columns))\n",
    "dfQ9=pd.DataFrame(df_NoQ[Q9_parts].stack().tolist(),columns=['IDEs'])\n",
    "dfQ9['IDEs'].value_counts()"
   ]
  },
  {
   "cell_type": "code",
   "execution_count": 52,
   "metadata": {
    "execution": {
     "iopub.execute_input": "2021-10-21T05:18:16.009912Z",
     "iopub.status.busy": "2021-10-21T05:18:16.008423Z",
     "iopub.status.idle": "2021-10-21T05:18:16.386075Z",
     "shell.execute_reply": "2021-10-21T05:18:16.385208Z",
     "shell.execute_reply.started": "2021-10-21T05:18:16.009859Z"
    }
   },
   "outputs": [],
   "source": [
    "l=sns.countplot(x='IDEs',data=dfQ9,order=dfQ9['IDEs'].value_counts().index)\n",
    "l.set_xticklabels(labels=dfQ9['IDEs'].value_counts().index,rotation=90)\n",
    "plt.show()"
   ]
  },
  {
   "cell_type": "code",
   "execution_count": 53,
   "metadata": {
    "execution": {
     "iopub.execute_input": "2021-10-21T05:18:16.387716Z",
     "iopub.status.busy": "2021-10-21T05:18:16.387363Z",
     "iopub.status.idle": "2021-10-21T05:18:16.446264Z",
     "shell.execute_reply": "2021-10-21T05:18:16.445247Z",
     "shell.execute_reply.started": "2021-10-21T05:18:16.387677Z"
    }
   },
   "outputs": [],
   "source": [
    "Q10_parts=list(filter(lambda x: x.split('_')[0]=='Q10' ,df_NoQ.columns))\n",
    "dfQ10=pd.DataFrame(df_NoQ[Q10_parts].stack().tolist(),columns=['Notebooks'])\n",
    "dfQ10['Notebooks'].value_counts()"
   ]
  },
  {
   "cell_type": "code",
   "execution_count": 54,
   "metadata": {
    "execution": {
     "iopub.execute_input": "2021-10-21T05:18:16.448047Z",
     "iopub.status.busy": "2021-10-21T05:18:16.447729Z",
     "iopub.status.idle": "2021-10-21T05:18:16.837781Z",
     "shell.execute_reply": "2021-10-21T05:18:16.837060Z",
     "shell.execute_reply.started": "2021-10-21T05:18:16.448007Z"
    }
   },
   "outputs": [],
   "source": [
    "l=sns.countplot(x='Notebooks',data=dfQ10,order=dfQ10['Notebooks'].value_counts().index)\n",
    "l.set_xticklabels(labels=dfQ10['Notebooks'].value_counts().index,rotation=90)\n",
    "plt.show()"
   ]
  },
  {
   "cell_type": "code",
   "execution_count": 55,
   "metadata": {
    "execution": {
     "iopub.execute_input": "2021-10-21T05:18:16.839507Z",
     "iopub.status.busy": "2021-10-21T05:18:16.838846Z",
     "iopub.status.idle": "2021-10-21T05:18:16.852762Z",
     "shell.execute_reply": "2021-10-21T05:18:16.851257Z",
     "shell.execute_reply.started": "2021-10-21T05:18:16.839475Z"
    }
   },
   "outputs": [],
   "source": [
    "df_NoQ['Q11'].value_counts()"
   ]
  },
  {
   "cell_type": "code",
   "execution_count": 56,
   "metadata": {
    "execution": {
     "iopub.execute_input": "2021-10-21T05:18:16.855260Z",
     "iopub.status.busy": "2021-10-21T05:18:16.854284Z",
     "iopub.status.idle": "2021-10-21T05:18:17.129347Z",
     "shell.execute_reply": "2021-10-21T05:18:17.128688Z",
     "shell.execute_reply.started": "2021-10-21T05:18:16.855216Z"
    }
   },
   "outputs": [],
   "source": [
    "l=sns.countplot(x='Q11',data=df_NoQ,order=df_NoQ['Q11'].value_counts().index)\n",
    "l.set_xticklabels(labels=df_NoQ['Q11'].value_counts().index,rotation=90)\n",
    "plt.show()"
   ]
  },
  {
   "cell_type": "code",
   "execution_count": 57,
   "metadata": {
    "execution": {
     "iopub.execute_input": "2021-10-21T05:18:17.130797Z",
     "iopub.status.busy": "2021-10-21T05:18:17.130474Z",
     "iopub.status.idle": "2021-10-21T05:18:17.163517Z",
     "shell.execute_reply": "2021-10-21T05:18:17.162357Z",
     "shell.execute_reply.started": "2021-10-21T05:18:17.130770Z"
    }
   },
   "outputs": [],
   "source": [
    "Q12_parts=list(filter(lambda x: x.split('_')[0]=='Q12' ,df_NoQ.columns))\n",
    "dfQ12=pd.DataFrame(df_NoQ[Q12_parts].stack().tolist(),columns=['Hardware'])\n",
    "dfQ12['Hardware'].value_counts()"
   ]
  },
  {
   "cell_type": "code",
   "execution_count": 58,
   "metadata": {
    "execution": {
     "iopub.execute_input": "2021-10-21T05:18:17.165088Z",
     "iopub.status.busy": "2021-10-21T05:18:17.164841Z",
     "iopub.status.idle": "2021-10-21T05:18:17.411132Z",
     "shell.execute_reply": "2021-10-21T05:18:17.409072Z",
     "shell.execute_reply.started": "2021-10-21T05:18:17.165058Z"
    }
   },
   "outputs": [],
   "source": [
    "l=sns.countplot(x='Hardware',data=dfQ12,order=dfQ12['Hardware'].value_counts().index)\n",
    "l.set_xticklabels(labels=dfQ12['Hardware'].value_counts().index,rotation=90)\n",
    "plt.show()"
   ]
  },
  {
   "cell_type": "code",
   "execution_count": 59,
   "metadata": {
    "execution": {
     "iopub.execute_input": "2021-10-21T05:18:17.412907Z",
     "iopub.status.busy": "2021-10-21T05:18:17.412583Z",
     "iopub.status.idle": "2021-10-21T05:18:17.426630Z",
     "shell.execute_reply": "2021-10-21T05:18:17.425753Z",
     "shell.execute_reply.started": "2021-10-21T05:18:17.412865Z"
    }
   },
   "outputs": [],
   "source": [
    "df_NoQ['Q13'].value_counts()"
   ]
  },
  {
   "cell_type": "code",
   "execution_count": 60,
   "metadata": {
    "execution": {
     "iopub.execute_input": "2021-10-21T05:18:17.427959Z",
     "iopub.status.busy": "2021-10-21T05:18:17.427631Z",
     "iopub.status.idle": "2021-10-21T05:18:17.680267Z",
     "shell.execute_reply": "2021-10-21T05:18:17.679198Z",
     "shell.execute_reply.started": "2021-10-21T05:18:17.427930Z"
    }
   },
   "outputs": [],
   "source": [
    "l=sns.countplot(x='Q13',data=df_NoQ,order=df_NoQ['Q13'].value_counts().index)\n",
    "l.set_xticklabels(labels=df_NoQ['Q13'].value_counts().index,rotation=90)\n",
    "plt.show()"
   ]
  },
  {
   "cell_type": "code",
   "execution_count": 61,
   "metadata": {
    "execution": {
     "iopub.execute_input": "2021-10-21T05:18:17.682413Z",
     "iopub.status.busy": "2021-10-21T05:18:17.682033Z",
     "iopub.status.idle": "2021-10-21T05:18:17.743200Z",
     "shell.execute_reply": "2021-10-21T05:18:17.742007Z",
     "shell.execute_reply.started": "2021-10-21T05:18:17.682369Z"
    }
   },
   "outputs": [],
   "source": [
    "Q14_parts=list(filter(lambda x: x.split('_')[0]=='Q14' ,df_NoQ.columns))\n",
    "dfQ14=pd.DataFrame(df_NoQ[Q14_parts].stack().tolist(),columns=['Visualization'])\n",
    "dfQ14['Visualization'].value_counts()"
   ]
  },
  {
   "cell_type": "code",
   "execution_count": 62,
   "metadata": {
    "execution": {
     "iopub.execute_input": "2021-10-21T05:18:17.744945Z",
     "iopub.status.busy": "2021-10-21T05:18:17.744711Z",
     "iopub.status.idle": "2021-10-21T05:18:18.080038Z",
     "shell.execute_reply": "2021-10-21T05:18:18.079045Z",
     "shell.execute_reply.started": "2021-10-21T05:18:17.744917Z"
    }
   },
   "outputs": [],
   "source": [
    "l=sns.countplot(x='Visualization',data=dfQ14,order=dfQ14['Visualization'].value_counts().index)\n",
    "l.set_xticklabels(labels=dfQ14['Visualization'].value_counts().index,rotation=90)\n",
    "plt.show()"
   ]
  },
  {
   "cell_type": "code",
   "execution_count": 63,
   "metadata": {
    "execution": {
     "iopub.execute_input": "2021-10-21T05:18:18.081629Z",
     "iopub.status.busy": "2021-10-21T05:18:18.081369Z",
     "iopub.status.idle": "2021-10-21T05:18:18.096486Z",
     "shell.execute_reply": "2021-10-21T05:18:18.095221Z",
     "shell.execute_reply.started": "2021-10-21T05:18:18.081599Z"
    }
   },
   "outputs": [],
   "source": [
    "df_NoQ['Q15'].value_counts()"
   ]
  },
  {
   "cell_type": "code",
   "execution_count": 64,
   "metadata": {
    "execution": {
     "iopub.execute_input": "2021-10-21T05:18:18.098931Z",
     "iopub.status.busy": "2021-10-21T05:18:18.098217Z",
     "iopub.status.idle": "2021-10-21T05:18:18.376233Z",
     "shell.execute_reply": "2021-10-21T05:18:18.375150Z",
     "shell.execute_reply.started": "2021-10-21T05:18:18.098879Z"
    }
   },
   "outputs": [],
   "source": [
    "l=sns.countplot(x='Q15',data=df_NoQ,order=df_NoQ['Q15'].value_counts().index)\n",
    "l.set_xticklabels(labels=df_NoQ['Q15'].value_counts().index,rotation=90)\n",
    "plt.show()"
   ]
  },
  {
   "cell_type": "code",
   "execution_count": 65,
   "metadata": {
    "execution": {
     "iopub.execute_input": "2021-10-21T05:18:18.378325Z",
     "iopub.status.busy": "2021-10-21T05:18:18.378026Z",
     "iopub.status.idle": "2021-10-21T05:18:18.448161Z",
     "shell.execute_reply": "2021-10-21T05:18:18.447460Z",
     "shell.execute_reply.started": "2021-10-21T05:18:18.378291Z"
    }
   },
   "outputs": [],
   "source": [
    "Q16_parts=list(filter(lambda x: x.split('_')[0]=='Q16' ,df_NoQ.columns))\n",
    "dfQ16=pd.DataFrame(df_NoQ[Q16_parts].stack().tolist(),columns=['MLFrameworks'])\n",
    "dfQ16['MLFrameworks'].value_counts()"
   ]
  },
  {
   "cell_type": "code",
   "execution_count": 66,
   "metadata": {
    "execution": {
     "iopub.execute_input": "2021-10-21T05:18:18.450285Z",
     "iopub.status.busy": "2021-10-21T05:18:18.449433Z",
     "iopub.status.idle": "2021-10-21T05:18:18.847997Z",
     "shell.execute_reply": "2021-10-21T05:18:18.847104Z",
     "shell.execute_reply.started": "2021-10-21T05:18:18.450247Z"
    }
   },
   "outputs": [],
   "source": [
    "l=sns.countplot(x='MLFrameworks',data=dfQ16,order=dfQ16['MLFrameworks'].value_counts().index)\n",
    "l.set_xticklabels(labels=dfQ16['MLFrameworks'].value_counts().index,rotation=90)\n",
    "plt.show()"
   ]
  },
  {
   "cell_type": "code",
   "execution_count": 67,
   "metadata": {
    "execution": {
     "iopub.execute_input": "2021-10-21T05:18:18.849674Z",
     "iopub.status.busy": "2021-10-21T05:18:18.849224Z",
     "iopub.status.idle": "2021-10-21T05:18:18.906035Z",
     "shell.execute_reply": "2021-10-21T05:18:18.905352Z",
     "shell.execute_reply.started": "2021-10-21T05:18:18.849645Z"
    }
   },
   "outputs": [],
   "source": [
    "Q17_parts=list(filter(lambda x: x.split('_')[0]=='Q17' ,df_NoQ.columns))\n",
    "dfQ17=pd.DataFrame(df_NoQ[Q17_parts].stack().tolist(),columns=['MLAlgorithms'])\n",
    "dfQ17['MLAlgorithms'].value_counts()"
   ]
  },
  {
   "cell_type": "code",
   "execution_count": 68,
   "metadata": {
    "execution": {
     "iopub.execute_input": "2021-10-21T05:18:18.907523Z",
     "iopub.status.busy": "2021-10-21T05:18:18.907145Z",
     "iopub.status.idle": "2021-10-21T05:18:19.274339Z",
     "shell.execute_reply": "2021-10-21T05:18:19.273659Z",
     "shell.execute_reply.started": "2021-10-21T05:18:18.907494Z"
    }
   },
   "outputs": [],
   "source": [
    "l=sns.countplot(x='MLAlgorithms',data=dfQ17,order=dfQ17['MLAlgorithms'].value_counts().index)\n",
    "l.set_xticklabels(labels=dfQ17['MLAlgorithms'].value_counts().index,rotation=90)\n",
    "plt.show()"
   ]
  },
  {
   "cell_type": "code",
   "execution_count": 69,
   "metadata": {
    "execution": {
     "iopub.execute_input": "2021-10-21T05:18:19.277407Z",
     "iopub.status.busy": "2021-10-21T05:18:19.275385Z",
     "iopub.status.idle": "2021-10-21T05:18:19.310403Z",
     "shell.execute_reply": "2021-10-21T05:18:19.309257Z",
     "shell.execute_reply.started": "2021-10-21T05:18:19.277357Z"
    }
   },
   "outputs": [],
   "source": [
    "Q18_parts=list(filter(lambda x: x.split('_')[0]=='Q18' ,df_NoQ.columns))\n",
    "dfQ18=pd.DataFrame(df_NoQ[Q18_parts].stack().tolist(),columns=['ComputerVision'])\n",
    "dfQ18['ComputerVision'].value_counts()"
   ]
  },
  {
   "cell_type": "code",
   "execution_count": 70,
   "metadata": {
    "execution": {
     "iopub.execute_input": "2021-10-21T05:18:19.312750Z",
     "iopub.status.busy": "2021-10-21T05:18:19.312035Z",
     "iopub.status.idle": "2021-10-21T05:18:19.594545Z",
     "shell.execute_reply": "2021-10-21T05:18:19.593398Z",
     "shell.execute_reply.started": "2021-10-21T05:18:19.312699Z"
    }
   },
   "outputs": [],
   "source": [
    "l=sns.countplot(x='ComputerVision',data=dfQ18,order=dfQ18['ComputerVision'].value_counts().index)\n",
    "l.set_xticklabels(labels=dfQ18['ComputerVision'].value_counts().index,rotation=90)\n",
    "plt.show()"
   ]
  },
  {
   "cell_type": "code",
   "execution_count": 71,
   "metadata": {
    "execution": {
     "iopub.execute_input": "2021-10-21T05:18:19.596727Z",
     "iopub.status.busy": "2021-10-21T05:18:19.596380Z",
     "iopub.status.idle": "2021-10-21T05:18:19.624967Z",
     "shell.execute_reply": "2021-10-21T05:18:19.624265Z",
     "shell.execute_reply.started": "2021-10-21T05:18:19.596681Z"
    }
   },
   "outputs": [],
   "source": [
    "Q19_parts=list(filter(lambda x: x.split('_')[0]=='Q19' ,df_NoQ.columns))\n",
    "dfQ19=pd.DataFrame(df_NoQ[Q19_parts].stack().tolist(),columns=['NLP methods'])\n",
    "dfQ19['NLP methods'].value_counts()"
   ]
  },
  {
   "cell_type": "code",
   "execution_count": 72,
   "metadata": {
    "execution": {
     "iopub.execute_input": "2021-10-21T05:18:19.627008Z",
     "iopub.status.busy": "2021-10-21T05:18:19.626358Z",
     "iopub.status.idle": "2021-10-21T05:18:20.077951Z",
     "shell.execute_reply": "2021-10-21T05:18:20.076793Z",
     "shell.execute_reply.started": "2021-10-21T05:18:19.626975Z"
    }
   },
   "outputs": [],
   "source": [
    "l=sns.countplot(x='NLP methods',data=dfQ19,order=dfQ19['NLP methods'].value_counts().index)\n",
    "l.set_xticklabels(labels=dfQ19['NLP methods'].value_counts().index,rotation=90)\n",
    "plt.show()"
   ]
  },
  {
   "cell_type": "code",
   "execution_count": 73,
   "metadata": {
    "execution": {
     "iopub.execute_input": "2021-10-21T05:18:20.080093Z",
     "iopub.status.busy": "2021-10-21T05:18:20.079741Z",
     "iopub.status.idle": "2021-10-21T05:18:20.092481Z",
     "shell.execute_reply": "2021-10-21T05:18:20.091530Z",
     "shell.execute_reply.started": "2021-10-21T05:18:20.080049Z"
    }
   },
   "outputs": [],
   "source": [
    "df_NoQ['Q20'].value_counts()"
   ]
  },
  {
   "cell_type": "code",
   "execution_count": 74,
   "metadata": {
    "execution": {
     "iopub.execute_input": "2021-10-21T05:18:20.094087Z",
     "iopub.status.busy": "2021-10-21T05:18:20.093832Z",
     "iopub.status.idle": "2021-10-21T05:18:20.475434Z",
     "shell.execute_reply": "2021-10-21T05:18:20.474270Z",
     "shell.execute_reply.started": "2021-10-21T05:18:20.094058Z"
    }
   },
   "outputs": [],
   "source": [
    "l=sns.countplot(x='Q20',data=df_NoQ,order=df_NoQ['Q20'].value_counts().index)\n",
    "l.set_xticklabels(labels=df_NoQ['Q20'].value_counts().index,rotation=90)\n",
    "plt.show()"
   ]
  },
  {
   "cell_type": "code",
   "execution_count": 75,
   "metadata": {
    "execution": {
     "iopub.execute_input": "2021-10-21T05:18:20.476962Z",
     "iopub.status.busy": "2021-10-21T05:18:20.476715Z",
     "iopub.status.idle": "2021-10-21T05:18:20.488625Z",
     "shell.execute_reply": "2021-10-21T05:18:20.487394Z",
     "shell.execute_reply.started": "2021-10-21T05:18:20.476932Z"
    }
   },
   "outputs": [],
   "source": [
    "df_NoQ['Q21'].value_counts()"
   ]
  },
  {
   "cell_type": "code",
   "execution_count": 76,
   "metadata": {
    "execution": {
     "iopub.execute_input": "2021-10-21T05:18:20.490628Z",
     "iopub.status.busy": "2021-10-21T05:18:20.490192Z",
     "iopub.status.idle": "2021-10-21T05:18:20.728991Z",
     "shell.execute_reply": "2021-10-21T05:18:20.728274Z",
     "shell.execute_reply.started": "2021-10-21T05:18:20.490596Z"
    }
   },
   "outputs": [],
   "source": [
    "l=sns.countplot(x='Q21',data=df_NoQ,order=df_NoQ['Q21'].value_counts().index)\n",
    "l.set_xticklabels(labels=df_NoQ['Q21'].value_counts().index,rotation=90)\n",
    "plt.show()"
   ]
  },
  {
   "cell_type": "code",
   "execution_count": 77,
   "metadata": {
    "execution": {
     "iopub.execute_input": "2021-10-21T05:18:20.731075Z",
     "iopub.status.busy": "2021-10-21T05:18:20.730475Z",
     "iopub.status.idle": "2021-10-21T05:18:20.743056Z",
     "shell.execute_reply": "2021-10-21T05:18:20.742311Z",
     "shell.execute_reply.started": "2021-10-21T05:18:20.731038Z"
    }
   },
   "outputs": [],
   "source": [
    "df_NoQ['Q22'].value_counts()"
   ]
  },
  {
   "cell_type": "code",
   "execution_count": 78,
   "metadata": {
    "execution": {
     "iopub.execute_input": "2021-10-21T05:18:20.745677Z",
     "iopub.status.busy": "2021-10-21T05:18:20.744578Z",
     "iopub.status.idle": "2021-10-21T05:18:20.994989Z",
     "shell.execute_reply": "2021-10-21T05:18:20.994257Z",
     "shell.execute_reply.started": "2021-10-21T05:18:20.745638Z"
    }
   },
   "outputs": [],
   "source": [
    "l=sns.countplot(x='Q22',data=df_NoQ,order=df_NoQ['Q22'].value_counts().index)\n",
    "l.set_xticklabels(labels=df_NoQ['Q22'].value_counts().index,rotation=90)\n",
    "plt.show()"
   ]
  },
  {
   "cell_type": "code",
   "execution_count": 79,
   "metadata": {
    "execution": {
     "iopub.execute_input": "2021-10-21T05:18:20.996964Z",
     "iopub.status.busy": "2021-10-21T05:18:20.996508Z",
     "iopub.status.idle": "2021-10-21T05:18:21.007973Z",
     "shell.execute_reply": "2021-10-21T05:18:21.007302Z",
     "shell.execute_reply.started": "2021-10-21T05:18:20.996929Z"
    }
   },
   "outputs": [],
   "source": [
    "df_NoQ['Q23'].value_counts()"
   ]
  },
  {
   "cell_type": "code",
   "execution_count": 80,
   "metadata": {
    "execution": {
     "iopub.execute_input": "2021-10-21T05:18:21.010491Z",
     "iopub.status.busy": "2021-10-21T05:18:21.009701Z",
     "iopub.status.idle": "2021-10-21T05:18:21.307889Z",
     "shell.execute_reply": "2021-10-21T05:18:21.306872Z",
     "shell.execute_reply.started": "2021-10-21T05:18:21.010445Z"
    }
   },
   "outputs": [],
   "source": [
    "l=sns.countplot(x='Q23',data=df_NoQ,order=df_NoQ['Q23'].value_counts().index)\n",
    "l.set_xticklabels(labels=df_NoQ['Q23'].value_counts().index,rotation=90)\n",
    "plt.show()"
   ]
  },
  {
   "cell_type": "code",
   "execution_count": 81,
   "metadata": {
    "execution": {
     "iopub.execute_input": "2021-10-21T05:18:21.309958Z",
     "iopub.status.busy": "2021-10-21T05:18:21.309500Z",
     "iopub.status.idle": "2021-10-21T05:18:21.350318Z",
     "shell.execute_reply": "2021-10-21T05:18:21.349660Z",
     "shell.execute_reply.started": "2021-10-21T05:18:21.309926Z"
    }
   },
   "outputs": [],
   "source": [
    "Q24_parts=list(filter(lambda x: x.split('_')[0]=='Q24' ,df_NoQ.columns))\n",
    "dfQ24=pd.DataFrame(df_NoQ[Q24_parts].stack().tolist(),columns=['Role'])\n",
    "dfQ24['Role'].value_counts()"
   ]
  },
  {
   "cell_type": "code",
   "execution_count": 82,
   "metadata": {
    "execution": {
     "iopub.execute_input": "2021-10-21T05:18:21.351832Z",
     "iopub.status.busy": "2021-10-21T05:18:21.351500Z",
     "iopub.status.idle": "2021-10-21T05:18:21.677863Z",
     "shell.execute_reply": "2021-10-21T05:18:21.677065Z",
     "shell.execute_reply.started": "2021-10-21T05:18:21.351803Z"
    }
   },
   "outputs": [],
   "source": [
    "l=sns.countplot(x='Role',data=dfQ24,order=dfQ24['Role'].value_counts().index)\n",
    "l.set_xticklabels(labels=dfQ24['Role'].value_counts().index,rotation=90)\n",
    "plt.show()"
   ]
  },
  {
   "cell_type": "code",
   "execution_count": 83,
   "metadata": {
    "execution": {
     "iopub.execute_input": "2021-10-21T05:18:21.679267Z",
     "iopub.status.busy": "2021-10-21T05:18:21.679026Z",
     "iopub.status.idle": "2021-10-21T05:18:21.690772Z",
     "shell.execute_reply": "2021-10-21T05:18:21.689943Z",
     "shell.execute_reply.started": "2021-10-21T05:18:21.679238Z"
    }
   },
   "outputs": [],
   "source": [
    "df_NoQ['Q25'].value_counts()"
   ]
  },
  {
   "cell_type": "code",
   "execution_count": 84,
   "metadata": {
    "execution": {
     "iopub.execute_input": "2021-10-21T05:18:21.692390Z",
     "iopub.status.busy": "2021-10-21T05:18:21.692018Z",
     "iopub.status.idle": "2021-10-21T05:18:22.104931Z",
     "shell.execute_reply": "2021-10-21T05:18:22.104337Z",
     "shell.execute_reply.started": "2021-10-21T05:18:21.692355Z"
    }
   },
   "outputs": [],
   "source": [
    "l=sns.countplot(x='Q25',data=df_NoQ,order=df_NoQ['Q25'].value_counts().index)\n",
    "l.set_xticklabels(labels=df_NoQ['Q25'].value_counts().index,rotation=90)\n",
    "plt.show()"
   ]
  },
  {
   "cell_type": "code",
   "execution_count": 85,
   "metadata": {
    "execution": {
     "iopub.execute_input": "2021-10-21T05:18:22.106730Z",
     "iopub.status.busy": "2021-10-21T05:18:22.105987Z",
     "iopub.status.idle": "2021-10-21T05:18:22.117976Z",
     "shell.execute_reply": "2021-10-21T05:18:22.117387Z",
     "shell.execute_reply.started": "2021-10-21T05:18:22.106677Z"
    }
   },
   "outputs": [],
   "source": [
    "df_NoQ['Q26'].value_counts()"
   ]
  },
  {
   "cell_type": "code",
   "execution_count": 86,
   "metadata": {
    "execution": {
     "iopub.execute_input": "2021-10-21T05:18:22.119423Z",
     "iopub.status.busy": "2021-10-21T05:18:22.118868Z",
     "iopub.status.idle": "2021-10-21T05:18:22.597135Z",
     "shell.execute_reply": "2021-10-21T05:18:22.596187Z",
     "shell.execute_reply.started": "2021-10-21T05:18:22.119384Z"
    }
   },
   "outputs": [],
   "source": [
    "l=sns.countplot(x='Q26',data=df_NoQ,order=df_NoQ['Q26'].value_counts().index)\n",
    "l.set_xticklabels(labels=df_NoQ['Q26'].value_counts().index,rotation=90)\n",
    "plt.show()"
   ]
  },
  {
   "cell_type": "code",
   "execution_count": 87,
   "metadata": {
    "execution": {
     "iopub.execute_input": "2021-10-21T05:18:22.598666Z",
     "iopub.status.busy": "2021-10-21T05:18:22.598414Z",
     "iopub.status.idle": "2021-10-21T05:18:22.642289Z",
     "shell.execute_reply": "2021-10-21T05:18:22.641013Z",
     "shell.execute_reply.started": "2021-10-21T05:18:22.598636Z"
    }
   },
   "outputs": [],
   "source": [
    "Q27A_parts=list(filter(lambda x: (x.split('_')[0]=='Q27' and x.split('_')[1]=='A') ,df_NoQ.columns))\n",
    "dfQ27A=pd.DataFrame(df_NoQ[Q27A_parts].stack().tolist(),columns=['Cloud'])\n",
    "dfQ27A['Cloud'].value_counts()"
   ]
  },
  {
   "cell_type": "code",
   "execution_count": 88,
   "metadata": {
    "execution": {
     "iopub.execute_input": "2021-10-21T05:18:22.644026Z",
     "iopub.status.busy": "2021-10-21T05:18:22.643766Z",
     "iopub.status.idle": "2021-10-21T05:18:22.948788Z",
     "shell.execute_reply": "2021-10-21T05:18:22.947672Z",
     "shell.execute_reply.started": "2021-10-21T05:18:22.643996Z"
    }
   },
   "outputs": [],
   "source": [
    "l=sns.countplot(x='Cloud',data=dfQ27A,order=dfQ27A['Cloud'].value_counts().index)\n",
    "l.set_xticklabels(labels=dfQ27A['Cloud'].value_counts().index,rotation=90)\n",
    "plt.show()"
   ]
  },
  {
   "cell_type": "code",
   "execution_count": 89,
   "metadata": {
    "execution": {
     "iopub.execute_input": "2021-10-21T05:18:22.950464Z",
     "iopub.status.busy": "2021-10-21T05:18:22.950212Z",
     "iopub.status.idle": "2021-10-21T05:18:23.001715Z",
     "shell.execute_reply": "2021-10-21T05:18:23.000639Z",
     "shell.execute_reply.started": "2021-10-21T05:18:22.950435Z"
    }
   },
   "outputs": [],
   "source": [
    "Q27B_parts=list(filter(lambda x: (x.split('_')[0]=='Q27' and x.split('_')[1]=='B') ,df_NoQ.columns))\n",
    "dfQ27B=pd.DataFrame(df_NoQ[Q27B_parts].stack().tolist(),columns=['NextCloud'])\n",
    "dfQ27B['NextCloud'].value_counts()"
   ]
  },
  {
   "cell_type": "code",
   "execution_count": 90,
   "metadata": {
    "execution": {
     "iopub.execute_input": "2021-10-21T05:18:23.003402Z",
     "iopub.status.busy": "2021-10-21T05:18:23.003130Z",
     "iopub.status.idle": "2021-10-21T05:18:23.322361Z",
     "shell.execute_reply": "2021-10-21T05:18:23.321290Z",
     "shell.execute_reply.started": "2021-10-21T05:18:23.003371Z"
    }
   },
   "outputs": [],
   "source": [
    "l=sns.countplot(x='NextCloud',data=dfQ27B,order=dfQ27B['NextCloud'].value_counts().index)\n",
    "l.set_xticklabels(labels=dfQ27B['NextCloud'].value_counts().index,rotation=90)\n",
    "plt.show()"
   ]
  },
  {
   "cell_type": "code",
   "execution_count": 91,
   "metadata": {
    "execution": {
     "iopub.execute_input": "2021-10-21T05:18:23.324349Z",
     "iopub.status.busy": "2021-10-21T05:18:23.323987Z",
     "iopub.status.idle": "2021-10-21T05:18:23.337067Z",
     "shell.execute_reply": "2021-10-21T05:18:23.335480Z",
     "shell.execute_reply.started": "2021-10-21T05:18:23.324306Z"
    }
   },
   "outputs": [],
   "source": [
    "df_NoQ['Q28'].value_counts()"
   ]
  },
  {
   "cell_type": "code",
   "execution_count": 92,
   "metadata": {
    "execution": {
     "iopub.execute_input": "2021-10-21T05:18:23.340429Z",
     "iopub.status.busy": "2021-10-21T05:18:23.339264Z",
     "iopub.status.idle": "2021-10-21T05:18:23.662829Z",
     "shell.execute_reply": "2021-10-21T05:18:23.662154Z",
     "shell.execute_reply.started": "2021-10-21T05:18:23.340346Z"
    }
   },
   "outputs": [],
   "source": [
    "l=sns.countplot(x='Q28',data=df_NoQ,order=df_NoQ['Q28'].value_counts().index)\n",
    "l.set_xticklabels(labels=df_NoQ['Q28'].value_counts().index,rotation=90)\n",
    "plt.show()"
   ]
  },
  {
   "cell_type": "code",
   "execution_count": 93,
   "metadata": {
    "execution": {
     "iopub.execute_input": "2021-10-21T05:18:23.664275Z",
     "iopub.status.busy": "2021-10-21T05:18:23.663875Z",
     "iopub.status.idle": "2021-10-21T05:18:23.690865Z",
     "shell.execute_reply": "2021-10-21T05:18:23.689872Z",
     "shell.execute_reply.started": "2021-10-21T05:18:23.664242Z"
    }
   },
   "outputs": [],
   "source": [
    "Q29A_parts=list(filter(lambda x: (x.split('_')[0]=='Q29' and x.split('_')[1]=='A') ,df_NoQ.columns))\n",
    "dfQ29A=pd.DataFrame(df_NoQ[Q29A_parts].stack().tolist(),columns=['CloudProduct'])\n",
    "dfQ29A['CloudProduct'].value_counts()"
   ]
  },
  {
   "cell_type": "code",
   "execution_count": 94,
   "metadata": {
    "execution": {
     "iopub.execute_input": "2021-10-21T05:18:23.693110Z",
     "iopub.status.busy": "2021-10-21T05:18:23.692424Z",
     "iopub.status.idle": "2021-10-21T05:18:23.915416Z",
     "shell.execute_reply": "2021-10-21T05:18:23.914363Z",
     "shell.execute_reply.started": "2021-10-21T05:18:23.693069Z"
    }
   },
   "outputs": [],
   "source": [
    "l=sns.countplot(x='CloudProduct',data=dfQ29A,order=dfQ29A['CloudProduct'].value_counts().index)\n",
    "l.set_xticklabels(labels=dfQ29A['CloudProduct'].value_counts().index,rotation=90)\n",
    "plt.show()"
   ]
  },
  {
   "cell_type": "code",
   "execution_count": 95,
   "metadata": {
    "execution": {
     "iopub.execute_input": "2021-10-21T05:18:23.924575Z",
     "iopub.status.busy": "2021-10-21T05:18:23.924297Z",
     "iopub.status.idle": "2021-10-21T05:18:23.956047Z",
     "shell.execute_reply": "2021-10-21T05:18:23.955342Z",
     "shell.execute_reply.started": "2021-10-21T05:18:23.924546Z"
    }
   },
   "outputs": [],
   "source": [
    "Q29B_parts=list(filter(lambda x: (x.split('_')[0]=='Q29' and x.split('_')[1]=='B') ,df_NoQ.columns))\n",
    "dfQ29B=pd.DataFrame(df_NoQ[Q29B_parts].stack().tolist(),columns=['CloudProdNext'])\n",
    "dfQ29B['CloudProdNext'].value_counts()"
   ]
  },
  {
   "cell_type": "code",
   "execution_count": 96,
   "metadata": {
    "execution": {
     "iopub.execute_input": "2021-10-21T05:18:23.958252Z",
     "iopub.status.busy": "2021-10-21T05:18:23.957152Z",
     "iopub.status.idle": "2021-10-21T05:18:24.208072Z",
     "shell.execute_reply": "2021-10-21T05:18:24.207188Z",
     "shell.execute_reply.started": "2021-10-21T05:18:23.958194Z"
    }
   },
   "outputs": [],
   "source": [
    "l=sns.countplot(x='CloudProdNext',data=dfQ29B,order=dfQ29B['CloudProdNext'].value_counts().index)\n",
    "l.set_xticklabels(labels=dfQ29B['CloudProdNext'].value_counts().index,rotation=90)\n",
    "plt.show()"
   ]
  },
  {
   "cell_type": "code",
   "execution_count": 97,
   "metadata": {
    "execution": {
     "iopub.execute_input": "2021-10-21T05:18:24.209649Z",
     "iopub.status.busy": "2021-10-21T05:18:24.209385Z",
     "iopub.status.idle": "2021-10-21T05:18:24.242421Z",
     "shell.execute_reply": "2021-10-21T05:18:24.241741Z",
     "shell.execute_reply.started": "2021-10-21T05:18:24.209616Z"
    }
   },
   "outputs": [],
   "source": [
    "Q30A_parts=list(filter(lambda x: (x.split('_')[0]=='Q30' and x.split('_')[1]=='A') ,df_NoQ.columns))\n",
    "dfQ30A=pd.DataFrame(df_NoQ[Q30A_parts].stack().tolist(),columns=['Storage'])\n",
    "dfQ30A['Storage'].value_counts()"
   ]
  },
  {
   "cell_type": "code",
   "execution_count": 98,
   "metadata": {
    "execution": {
     "iopub.execute_input": "2021-10-21T05:18:24.244099Z",
     "iopub.status.busy": "2021-10-21T05:18:24.243512Z",
     "iopub.status.idle": "2021-10-21T05:18:24.495213Z",
     "shell.execute_reply": "2021-10-21T05:18:24.494530Z",
     "shell.execute_reply.started": "2021-10-21T05:18:24.244068Z"
    }
   },
   "outputs": [],
   "source": [
    "l=sns.countplot(x='Storage',data=dfQ30A,order=dfQ30A['Storage'].value_counts().index)\n",
    "l.set_xticklabels(labels=dfQ30A['Storage'].value_counts().index,rotation=90)\n",
    "plt.show()"
   ]
  },
  {
   "cell_type": "code",
   "execution_count": 99,
   "metadata": {
    "execution": {
     "iopub.execute_input": "2021-10-21T05:18:24.496842Z",
     "iopub.status.busy": "2021-10-21T05:18:24.496501Z",
     "iopub.status.idle": "2021-10-21T05:18:24.531436Z",
     "shell.execute_reply": "2021-10-21T05:18:24.530474Z",
     "shell.execute_reply.started": "2021-10-21T05:18:24.496812Z"
    }
   },
   "outputs": [],
   "source": [
    "Q30B_parts=list(filter(lambda x: (x.split('_')[0]=='Q30' and x.split('_')[1]=='B') ,df_NoQ.columns))\n",
    "dfQ30B=pd.DataFrame(df_NoQ[Q30B_parts].stack().tolist(),columns=['StorageNext'])\n",
    "dfQ30B['StorageNext'].value_counts()"
   ]
  },
  {
   "cell_type": "code",
   "execution_count": 100,
   "metadata": {
    "execution": {
     "iopub.execute_input": "2021-10-21T05:18:24.533362Z",
     "iopub.status.busy": "2021-10-21T05:18:24.532941Z",
     "iopub.status.idle": "2021-10-21T05:18:24.572486Z",
     "shell.execute_reply": "2021-10-21T05:18:24.571329Z",
     "shell.execute_reply.started": "2021-10-21T05:18:24.533317Z"
    }
   },
   "outputs": [],
   "source": [
    "Q31A_parts=list(filter(lambda x: (x.split('_')[0]=='Q31' and x.split('_')[1]=='A') ,df_NoQ.columns))\n",
    "dfQ31A=pd.DataFrame(df_NoQ[Q31A_parts].stack().tolist(),columns=['MLProducts'])\n",
    "dfQ31A['MLProducts'].value_counts()"
   ]
  },
  {
   "cell_type": "code",
   "execution_count": 101,
   "metadata": {
    "execution": {
     "iopub.execute_input": "2021-10-21T05:18:24.576442Z",
     "iopub.status.busy": "2021-10-21T05:18:24.575365Z",
     "iopub.status.idle": "2021-10-21T05:18:24.856586Z",
     "shell.execute_reply": "2021-10-21T05:18:24.855274Z",
     "shell.execute_reply.started": "2021-10-21T05:18:24.576402Z"
    }
   },
   "outputs": [],
   "source": [
    "l=sns.countplot(x='MLProducts',data=dfQ31A,order=dfQ31A['MLProducts'].value_counts().index)\n",
    "l.set_xticklabels(labels=dfQ31A['MLProducts'].value_counts().index,rotation=90)\n",
    "plt.show()"
   ]
  },
  {
   "cell_type": "code",
   "execution_count": 102,
   "metadata": {
    "execution": {
     "iopub.execute_input": "2021-10-21T05:18:24.858305Z",
     "iopub.status.busy": "2021-10-21T05:18:24.858018Z",
     "iopub.status.idle": "2021-10-21T05:18:24.900202Z",
     "shell.execute_reply": "2021-10-21T05:18:24.899487Z",
     "shell.execute_reply.started": "2021-10-21T05:18:24.858273Z"
    }
   },
   "outputs": [],
   "source": [
    "Q31B_parts=list(filter(lambda x: (x.split('_')[0]=='Q31' and x.split('_')[1]=='B') ,df_NoQ.columns))\n",
    "dfQ31B=pd.DataFrame(df_NoQ[Q31B_parts].stack().tolist(),columns=['MLProductsNext'])\n",
    "dfQ31B['MLProductsNext'].value_counts()"
   ]
  },
  {
   "cell_type": "code",
   "execution_count": 103,
   "metadata": {
    "execution": {
     "iopub.execute_input": "2021-10-21T05:18:24.902046Z",
     "iopub.status.busy": "2021-10-21T05:18:24.901500Z",
     "iopub.status.idle": "2021-10-21T05:18:25.352158Z",
     "shell.execute_reply": "2021-10-21T05:18:25.351282Z",
     "shell.execute_reply.started": "2021-10-21T05:18:24.902013Z"
    }
   },
   "outputs": [],
   "source": [
    "l=sns.countplot(x='MLProductsNext',data=dfQ31B,order=dfQ31B['MLProductsNext'].value_counts().index)\n",
    "l.set_xticklabels(labels=dfQ31B['MLProductsNext'].value_counts().index,rotation=90)\n",
    "plt.show()"
   ]
  },
  {
   "cell_type": "code",
   "execution_count": 104,
   "metadata": {
    "execution": {
     "iopub.execute_input": "2021-10-21T05:18:25.353985Z",
     "iopub.status.busy": "2021-10-21T05:18:25.353446Z",
     "iopub.status.idle": "2021-10-21T05:18:25.418542Z",
     "shell.execute_reply": "2021-10-21T05:18:25.417595Z",
     "shell.execute_reply.started": "2021-10-21T05:18:25.353949Z"
    }
   },
   "outputs": [],
   "source": [
    "Q32A_parts=list(filter(lambda x: (x.split('_')[0]=='Q32' and x.split('_')[1]=='A') ,df_NoQ.columns))\n",
    "dfQ32A=pd.DataFrame(df_NoQ[Q32A_parts].stack().tolist(),columns=['DataProducts'])\n",
    "dfQ32A['DataProducts'].value_counts()"
   ]
  },
  {
   "cell_type": "code",
   "execution_count": 105,
   "metadata": {
    "execution": {
     "iopub.execute_input": "2021-10-21T05:18:25.420519Z",
     "iopub.status.busy": "2021-10-21T05:18:25.420277Z",
     "iopub.status.idle": "2021-10-21T05:18:25.808057Z",
     "shell.execute_reply": "2021-10-21T05:18:25.806924Z",
     "shell.execute_reply.started": "2021-10-21T05:18:25.420491Z"
    }
   },
   "outputs": [],
   "source": [
    "l=sns.countplot(x='DataProducts',data=dfQ32A,order=dfQ32A['DataProducts'].value_counts().index)\n",
    "l.set_xticklabels(labels=dfQ32A['DataProducts'].value_counts().index,rotation=90)\n",
    "plt.show()"
   ]
  },
  {
   "cell_type": "code",
   "execution_count": 106,
   "metadata": {
    "execution": {
     "iopub.execute_input": "2021-10-21T05:18:25.810033Z",
     "iopub.status.busy": "2021-10-21T05:18:25.809774Z",
     "iopub.status.idle": "2021-10-21T05:18:25.884031Z",
     "shell.execute_reply": "2021-10-21T05:18:25.883064Z",
     "shell.execute_reply.started": "2021-10-21T05:18:25.810003Z"
    }
   },
   "outputs": [],
   "source": [
    "Q32B_parts=list(filter(lambda x: (x.split('_')[0]=='Q32' and x.split('_')[1]=='B') ,df_NoQ.columns))\n",
    "dfQ32B=pd.DataFrame(df_NoQ[Q32B_parts].stack().tolist(),columns=['DataProductsNext'])\n",
    "dfQ32B['DataProductsNext'].value_counts()"
   ]
  },
  {
   "cell_type": "code",
   "execution_count": 107,
   "metadata": {
    "execution": {
     "iopub.execute_input": "2021-10-21T05:18:25.885733Z",
     "iopub.status.busy": "2021-10-21T05:18:25.885473Z",
     "iopub.status.idle": "2021-10-21T05:18:26.292013Z",
     "shell.execute_reply": "2021-10-21T05:18:26.290995Z",
     "shell.execute_reply.started": "2021-10-21T05:18:25.885702Z"
    }
   },
   "outputs": [],
   "source": [
    "l=sns.countplot(x='DataProductsNext',data=dfQ32B,order=dfQ32B['DataProductsNext'].value_counts().index)\n",
    "l.set_xticklabels(labels=dfQ32B['DataProductsNext'].value_counts().index,rotation=90)\n",
    "plt.show()"
   ]
  },
  {
   "cell_type": "code",
   "execution_count": 108,
   "metadata": {
    "execution": {
     "iopub.execute_input": "2021-10-21T05:18:26.294101Z",
     "iopub.status.busy": "2021-10-21T05:18:26.293230Z",
     "iopub.status.idle": "2021-10-21T05:18:26.304136Z",
     "shell.execute_reply": "2021-10-21T05:18:26.303410Z",
     "shell.execute_reply.started": "2021-10-21T05:18:26.294061Z"
    }
   },
   "outputs": [],
   "source": [
    "df_NoQ['Q33'].value_counts()"
   ]
  },
  {
   "cell_type": "code",
   "execution_count": 109,
   "metadata": {
    "execution": {
     "iopub.execute_input": "2021-10-21T05:18:26.306322Z",
     "iopub.status.busy": "2021-10-21T05:18:26.305392Z",
     "iopub.status.idle": "2021-10-21T05:18:26.675207Z",
     "shell.execute_reply": "2021-10-21T05:18:26.674255Z",
     "shell.execute_reply.started": "2021-10-21T05:18:26.306203Z"
    }
   },
   "outputs": [],
   "source": [
    "l=sns.countplot(x='Q33',data=df_NoQ,order=df_NoQ['Q33'].value_counts().index)\n",
    "l.set_xticklabels(labels=df_NoQ['Q33'].value_counts().index,rotation=90)\n",
    "plt.show()"
   ]
  },
  {
   "cell_type": "code",
   "execution_count": 110,
   "metadata": {
    "execution": {
     "iopub.execute_input": "2021-10-21T05:18:26.677361Z",
     "iopub.status.busy": "2021-10-21T05:18:26.676982Z",
     "iopub.status.idle": "2021-10-21T05:18:26.728566Z",
     "shell.execute_reply": "2021-10-21T05:18:26.727709Z",
     "shell.execute_reply.started": "2021-10-21T05:18:26.677317Z"
    }
   },
   "outputs": [],
   "source": [
    "Q34A_parts=list(filter(lambda x: (x.split('_')[0]=='Q34' and x.split('_')[1]=='A') ,df_NoQ.columns))\n",
    "dfQ34A=pd.DataFrame(df_NoQ[Q34A_parts].stack().tolist(),columns=['BI'])\n",
    "dfQ34A['BI'].value_counts()"
   ]
  },
  {
   "cell_type": "code",
   "execution_count": 111,
   "metadata": {
    "execution": {
     "iopub.execute_input": "2021-10-21T05:18:26.730095Z",
     "iopub.status.busy": "2021-10-21T05:18:26.729856Z",
     "iopub.status.idle": "2021-10-21T05:18:27.061481Z",
     "shell.execute_reply": "2021-10-21T05:18:27.060623Z",
     "shell.execute_reply.started": "2021-10-21T05:18:26.730066Z"
    }
   },
   "outputs": [],
   "source": [
    "l=sns.countplot(x='BI',data=dfQ34A,order=dfQ34A['BI'].value_counts().index)\n",
    "l.set_xticklabels(labels=dfQ34A['BI'].value_counts().index,rotation=90)\n",
    "plt.show()"
   ]
  },
  {
   "cell_type": "code",
   "execution_count": 112,
   "metadata": {
    "execution": {
     "iopub.execute_input": "2021-10-21T05:18:27.062958Z",
     "iopub.status.busy": "2021-10-21T05:18:27.062718Z",
     "iopub.status.idle": "2021-10-21T05:18:27.116067Z",
     "shell.execute_reply": "2021-10-21T05:18:27.115056Z",
     "shell.execute_reply.started": "2021-10-21T05:18:27.062929Z"
    }
   },
   "outputs": [],
   "source": [
    "Q34B_parts=list(filter(lambda x: (x.split('_')[0]=='Q34' and x.split('_')[1]=='B') ,df_NoQ.columns))\n",
    "dfQ34B=pd.DataFrame(df_NoQ[Q34B_parts].stack().tolist(),columns=['BINext'])\n",
    "dfQ34B['BINext'].value_counts()"
   ]
  },
  {
   "cell_type": "code",
   "execution_count": 113,
   "metadata": {
    "execution": {
     "iopub.execute_input": "2021-10-21T05:18:27.118071Z",
     "iopub.status.busy": "2021-10-21T05:18:27.117681Z",
     "iopub.status.idle": "2021-10-21T05:18:27.450884Z",
     "shell.execute_reply": "2021-10-21T05:18:27.450249Z",
     "shell.execute_reply.started": "2021-10-21T05:18:27.118026Z"
    }
   },
   "outputs": [],
   "source": [
    "l=sns.countplot(x='BINext',data=dfQ34B,order=dfQ34B['BINext'].value_counts().index)\n",
    "l.set_xticklabels(labels=dfQ34B['BINext'].value_counts().index,rotation=90)\n",
    "plt.show()"
   ]
  },
  {
   "cell_type": "code",
   "execution_count": 114,
   "metadata": {
    "execution": {
     "iopub.execute_input": "2021-10-21T05:18:27.452383Z",
     "iopub.status.busy": "2021-10-21T05:18:27.451959Z",
     "iopub.status.idle": "2021-10-21T05:18:27.461776Z",
     "shell.execute_reply": "2021-10-21T05:18:27.460877Z",
     "shell.execute_reply.started": "2021-10-21T05:18:27.452346Z"
    }
   },
   "outputs": [],
   "source": [
    "df_NoQ['Q35'].value_counts()"
   ]
  },
  {
   "cell_type": "code",
   "execution_count": 115,
   "metadata": {
    "execution": {
     "iopub.execute_input": "2021-10-21T05:18:27.463211Z",
     "iopub.status.busy": "2021-10-21T05:18:27.462954Z",
     "iopub.status.idle": "2021-10-21T05:18:27.792709Z",
     "shell.execute_reply": "2021-10-21T05:18:27.791580Z",
     "shell.execute_reply.started": "2021-10-21T05:18:27.463158Z"
    }
   },
   "outputs": [],
   "source": [
    "l=sns.countplot(x='Q35',data=df_NoQ,order=df_NoQ['Q35'].value_counts().index)\n",
    "l.set_xticklabels(labels=df_NoQ['Q35'].value_counts().index,rotation=90)\n",
    "plt.show()"
   ]
  },
  {
   "cell_type": "code",
   "execution_count": 116,
   "metadata": {
    "execution": {
     "iopub.execute_input": "2021-10-21T05:18:27.794608Z",
     "iopub.status.busy": "2021-10-21T05:18:27.794316Z",
     "iopub.status.idle": "2021-10-21T05:18:27.830126Z",
     "shell.execute_reply": "2021-10-21T05:18:27.829010Z",
     "shell.execute_reply.started": "2021-10-21T05:18:27.794573Z"
    }
   },
   "outputs": [],
   "source": [
    "Q36A_parts=list(filter(lambda x: (x.split('_')[0]=='Q36' and x.split('_')[1]=='A') ,df_NoQ.columns))\n",
    "dfQ36A=pd.DataFrame(df_NoQ[Q36A_parts].stack().tolist(),columns=['AutoML'])\n",
    "dfQ36A['AutoML'].value_counts()"
   ]
  },
  {
   "cell_type": "code",
   "execution_count": 117,
   "metadata": {
    "execution": {
     "iopub.execute_input": "2021-10-21T05:18:27.832036Z",
     "iopub.status.busy": "2021-10-21T05:18:27.831786Z",
     "iopub.status.idle": "2021-10-21T05:18:28.116999Z",
     "shell.execute_reply": "2021-10-21T05:18:28.116381Z",
     "shell.execute_reply.started": "2021-10-21T05:18:27.832007Z"
    }
   },
   "outputs": [],
   "source": [
    "l=sns.countplot(x='AutoML',data=dfQ36A,order=dfQ36A['AutoML'].value_counts().index)\n",
    "l.set_xticklabels(labels=dfQ36A['AutoML'].value_counts().index,rotation=90)\n",
    "plt.show()"
   ]
  },
  {
   "cell_type": "code",
   "execution_count": 118,
   "metadata": {
    "execution": {
     "iopub.execute_input": "2021-10-21T05:18:28.118397Z",
     "iopub.status.busy": "2021-10-21T05:18:28.118128Z",
     "iopub.status.idle": "2021-10-21T05:18:28.159086Z",
     "shell.execute_reply": "2021-10-21T05:18:28.157943Z",
     "shell.execute_reply.started": "2021-10-21T05:18:28.118368Z"
    }
   },
   "outputs": [],
   "source": [
    "Q36B_parts=list(filter(lambda x: (x.split('_')[0]=='Q36' and x.split('_')[1]=='B') ,df_NoQ.columns))\n",
    "dfQ36B=pd.DataFrame(df_NoQ[Q36B_parts].stack().tolist(),columns=['AutoMLNext'])\n",
    "dfQ36B['AutoMLNext'].value_counts()"
   ]
  },
  {
   "cell_type": "code",
   "execution_count": 119,
   "metadata": {
    "execution": {
     "iopub.execute_input": "2021-10-21T05:18:28.161092Z",
     "iopub.status.busy": "2021-10-21T05:18:28.160728Z",
     "iopub.status.idle": "2021-10-21T05:18:28.464585Z",
     "shell.execute_reply": "2021-10-21T05:18:28.463584Z",
     "shell.execute_reply.started": "2021-10-21T05:18:28.161049Z"
    }
   },
   "outputs": [],
   "source": [
    "l=sns.countplot(x='AutoMLNext',data=dfQ36B,order=dfQ36B['AutoMLNext'].value_counts().index)\n",
    "l.set_xticklabels(labels=dfQ36B['AutoMLNext'].value_counts().index,rotation=90)\n",
    "plt.show()"
   ]
  },
  {
   "cell_type": "code",
   "execution_count": 120,
   "metadata": {
    "execution": {
     "iopub.execute_input": "2021-10-21T05:18:28.466432Z",
     "iopub.status.busy": "2021-10-21T05:18:28.466075Z",
     "iopub.status.idle": "2021-10-21T05:18:28.500118Z",
     "shell.execute_reply": "2021-10-21T05:18:28.498949Z",
     "shell.execute_reply.started": "2021-10-21T05:18:28.466384Z"
    }
   },
   "outputs": [],
   "source": [
    "Q37A_parts=list(filter(lambda x: (x.split('_')[0]=='Q37' and x.split('_')[1]=='A') ,df_NoQ.columns))\n",
    "dfQ37A=pd.DataFrame(df_NoQ[Q37A_parts].stack().tolist(),columns=['AutoMLTools'])\n",
    "dfQ37A['AutoMLTools'].value_counts()"
   ]
  },
  {
   "cell_type": "code",
   "execution_count": 121,
   "metadata": {
    "execution": {
     "iopub.execute_input": "2021-10-21T05:18:28.502051Z",
     "iopub.status.busy": "2021-10-21T05:18:28.501732Z",
     "iopub.status.idle": "2021-10-21T05:18:28.758271Z",
     "shell.execute_reply": "2021-10-21T05:18:28.757034Z",
     "shell.execute_reply.started": "2021-10-21T05:18:28.502006Z"
    }
   },
   "outputs": [],
   "source": [
    "l=sns.countplot(x='AutoMLTools',data=dfQ37A,order=dfQ37A['AutoMLTools'].value_counts().index)\n",
    "l.set_xticklabels(labels=dfQ37A['AutoMLTools'].value_counts().index,rotation=90)\n",
    "plt.show()"
   ]
  },
  {
   "cell_type": "code",
   "execution_count": 122,
   "metadata": {
    "execution": {
     "iopub.execute_input": "2021-10-21T05:18:28.760478Z",
     "iopub.status.busy": "2021-10-21T05:18:28.760118Z",
     "iopub.status.idle": "2021-10-21T05:18:28.797798Z",
     "shell.execute_reply": "2021-10-21T05:18:28.797137Z",
     "shell.execute_reply.started": "2021-10-21T05:18:28.760442Z"
    }
   },
   "outputs": [],
   "source": [
    "Q37B_parts=list(filter(lambda x: (x.split('_')[0]=='Q37' and x.split('_')[1]=='B') ,df_NoQ.columns))\n",
    "dfQ37B=pd.DataFrame(df_NoQ[Q37B_parts].stack().tolist(),columns=['AutoMLToolsNext'])\n",
    "dfQ37B['AutoMLToolsNext'].value_counts()"
   ]
  },
  {
   "cell_type": "code",
   "execution_count": 123,
   "metadata": {
    "execution": {
     "iopub.execute_input": "2021-10-21T05:18:28.799319Z",
     "iopub.status.busy": "2021-10-21T05:18:28.798857Z",
     "iopub.status.idle": "2021-10-21T05:18:29.058887Z",
     "shell.execute_reply": "2021-10-21T05:18:29.058194Z",
     "shell.execute_reply.started": "2021-10-21T05:18:28.799283Z"
    }
   },
   "outputs": [],
   "source": [
    "l=sns.countplot(x='AutoMLToolsNext',data=dfQ37B,order=dfQ37B['AutoMLToolsNext'].value_counts().index)\n",
    "l.set_xticklabels(labels=dfQ37B['AutoMLToolsNext'].value_counts().index,rotation=90)\n",
    "plt.show()"
   ]
  },
  {
   "cell_type": "code",
   "execution_count": 124,
   "metadata": {
    "execution": {
     "iopub.execute_input": "2021-10-21T05:18:29.060597Z",
     "iopub.status.busy": "2021-10-21T05:18:29.060251Z",
     "iopub.status.idle": "2021-10-21T05:18:29.101940Z",
     "shell.execute_reply": "2021-10-21T05:18:29.100771Z",
     "shell.execute_reply.started": "2021-10-21T05:18:29.060568Z"
    }
   },
   "outputs": [],
   "source": [
    "Q38A_parts=list(filter(lambda x: (x.split('_')[0]=='Q38' and x.split('_')[1]=='A') ,df_NoQ.columns))\n",
    "dfQ38A=pd.DataFrame(df_NoQ[Q38A_parts].stack().tolist(),columns=['MLTools'])\n",
    "dfQ38A['MLTools'].value_counts()"
   ]
  },
  {
   "cell_type": "code",
   "execution_count": 125,
   "metadata": {
    "execution": {
     "iopub.execute_input": "2021-10-21T05:18:29.103913Z",
     "iopub.status.busy": "2021-10-21T05:18:29.103653Z",
     "iopub.status.idle": "2021-10-21T05:18:29.383060Z",
     "shell.execute_reply": "2021-10-21T05:18:29.381772Z",
     "shell.execute_reply.started": "2021-10-21T05:18:29.103868Z"
    }
   },
   "outputs": [],
   "source": [
    "l=sns.countplot(x='MLTools',data=dfQ38A,order=dfQ38A['MLTools'].value_counts().index)\n",
    "l.set_xticklabels(labels=dfQ38A['MLTools'].value_counts().index,rotation=90)\n",
    "plt.show()"
   ]
  },
  {
   "cell_type": "code",
   "execution_count": 126,
   "metadata": {
    "execution": {
     "iopub.execute_input": "2021-10-21T05:18:29.384848Z",
     "iopub.status.busy": "2021-10-21T05:18:29.384614Z",
     "iopub.status.idle": "2021-10-21T05:18:29.430685Z",
     "shell.execute_reply": "2021-10-21T05:18:29.429599Z",
     "shell.execute_reply.started": "2021-10-21T05:18:29.384818Z"
    }
   },
   "outputs": [],
   "source": [
    "Q38B_parts=list(filter(lambda x: (x.split('_')[0]=='Q38' and x.split('_')[1]=='B') ,df_NoQ.columns))\n",
    "dfQ38B=pd.DataFrame(df_NoQ[Q38B_parts].stack().tolist(),columns=['MLToolsNext'])\n",
    "dfQ38B['MLToolsNext'].value_counts()"
   ]
  },
  {
   "cell_type": "code",
   "execution_count": 127,
   "metadata": {
    "execution": {
     "iopub.execute_input": "2021-10-21T05:18:29.432510Z",
     "iopub.status.busy": "2021-10-21T05:18:29.432165Z",
     "iopub.status.idle": "2021-10-21T05:18:29.723637Z",
     "shell.execute_reply": "2021-10-21T05:18:29.722531Z",
     "shell.execute_reply.started": "2021-10-21T05:18:29.432471Z"
    }
   },
   "outputs": [],
   "source": [
    "l=sns.countplot(x='MLToolsNext',data=dfQ38B,order=dfQ38B['MLToolsNext'].value_counts().index)\n",
    "l.set_xticklabels(labels=dfQ38B['MLToolsNext'].value_counts().index,rotation=90)\n",
    "plt.show()"
   ]
  },
  {
   "cell_type": "code",
   "execution_count": 128,
   "metadata": {
    "execution": {
     "iopub.execute_input": "2021-10-21T05:18:29.726069Z",
     "iopub.status.busy": "2021-10-21T05:18:29.725585Z",
     "iopub.status.idle": "2021-10-21T05:18:29.770464Z",
     "shell.execute_reply": "2021-10-21T05:18:29.769554Z",
     "shell.execute_reply.started": "2021-10-21T05:18:29.726035Z"
    }
   },
   "outputs": [],
   "source": [
    "Q39_parts=list(filter(lambda x: x.split('_')[0]=='Q39' ,df_NoQ.columns))\n",
    "dfQ39=pd.DataFrame(df_NoQ[Q39_parts].stack().tolist(),columns=['Sharing'])\n",
    "dfQ39['Sharing'].value_counts()"
   ]
  },
  {
   "cell_type": "code",
   "execution_count": 129,
   "metadata": {
    "execution": {
     "iopub.execute_input": "2021-10-21T05:18:29.772220Z",
     "iopub.status.busy": "2021-10-21T05:18:29.771858Z",
     "iopub.status.idle": "2021-10-21T05:18:30.031059Z",
     "shell.execute_reply": "2021-10-21T05:18:30.030248Z",
     "shell.execute_reply.started": "2021-10-21T05:18:29.772156Z"
    }
   },
   "outputs": [],
   "source": [
    "l=sns.countplot(x='Sharing',data=dfQ39,order=dfQ39['Sharing'].value_counts().index)\n",
    "l.set_xticklabels(labels=dfQ39['Sharing'].value_counts().index,rotation=90)\n",
    "plt.show()"
   ]
  },
  {
   "cell_type": "code",
   "execution_count": 130,
   "metadata": {
    "execution": {
     "iopub.execute_input": "2021-10-21T05:18:30.033422Z",
     "iopub.status.busy": "2021-10-21T05:18:30.032361Z",
     "iopub.status.idle": "2021-10-21T05:18:30.086493Z",
     "shell.execute_reply": "2021-10-21T05:18:30.085718Z",
     "shell.execute_reply.started": "2021-10-21T05:18:30.033364Z"
    }
   },
   "outputs": [],
   "source": [
    "Q40_parts=list(filter(lambda x: x.split('_')[0]=='Q40' ,df_NoQ.columns))\n",
    "dfQ40=pd.DataFrame(df_NoQ[Q40_parts].stack().tolist(),columns=['Platform'])\n",
    "dfQ40['Platform'].value_counts()"
   ]
  },
  {
   "cell_type": "code",
   "execution_count": 131,
   "metadata": {
    "execution": {
     "iopub.execute_input": "2021-10-21T05:18:30.087955Z",
     "iopub.status.busy": "2021-10-21T05:18:30.087666Z",
     "iopub.status.idle": "2021-10-21T05:18:30.414784Z",
     "shell.execute_reply": "2021-10-21T05:18:30.414111Z",
     "shell.execute_reply.started": "2021-10-21T05:18:30.087920Z"
    }
   },
   "outputs": [],
   "source": [
    "l=sns.countplot(x='Platform',data=dfQ40,order=dfQ40['Platform'].value_counts().index)\n",
    "l.set_xticklabels(labels=dfQ40['Platform'].value_counts().index,rotation=90)\n",
    "plt.show()"
   ]
  },
  {
   "cell_type": "code",
   "execution_count": 132,
   "metadata": {
    "execution": {
     "iopub.execute_input": "2021-10-21T05:18:30.416207Z",
     "iopub.status.busy": "2021-10-21T05:18:30.415770Z",
     "iopub.status.idle": "2021-10-21T05:18:30.428129Z",
     "shell.execute_reply": "2021-10-21T05:18:30.427158Z",
     "shell.execute_reply.started": "2021-10-21T05:18:30.416149Z"
    }
   },
   "outputs": [],
   "source": [
    "df_NoQ['Q41'].value_counts()"
   ]
  },
  {
   "cell_type": "code",
   "execution_count": 133,
   "metadata": {
    "execution": {
     "iopub.execute_input": "2021-10-21T05:18:30.429763Z",
     "iopub.status.busy": "2021-10-21T05:18:30.429413Z",
     "iopub.status.idle": "2021-10-21T05:18:30.895592Z",
     "shell.execute_reply": "2021-10-21T05:18:30.894736Z",
     "shell.execute_reply.started": "2021-10-21T05:18:30.429735Z"
    }
   },
   "outputs": [],
   "source": [
    "l=sns.countplot(x='Q41',data=df_NoQ,order=df_NoQ['Q41'].value_counts().index)\n",
    "l.set_xticklabels(labels=df_NoQ['Q41'].value_counts().index,rotation=90)\n",
    "plt.show()"
   ]
  },
  {
   "cell_type": "code",
   "execution_count": 134,
   "metadata": {
    "execution": {
     "iopub.execute_input": "2021-10-21T05:18:30.897151Z",
     "iopub.status.busy": "2021-10-21T05:18:30.896905Z",
     "iopub.status.idle": "2021-10-21T05:18:30.951347Z",
     "shell.execute_reply": "2021-10-21T05:18:30.950723Z",
     "shell.execute_reply.started": "2021-10-21T05:18:30.897122Z"
    }
   },
   "outputs": [],
   "source": [
    "Q42_parts=list(filter(lambda x: x.split('_')[0]=='Q42' ,df_NoQ.columns))\n",
    "dfQ42=pd.DataFrame(df_NoQ[Q42_parts].stack().tolist(),columns=['Media'])\n",
    "dfQ42['Media'].value_counts()"
   ]
  },
  {
   "cell_type": "code",
   "execution_count": 135,
   "metadata": {
    "execution": {
     "iopub.execute_input": "2021-10-21T05:18:30.953043Z",
     "iopub.status.busy": "2021-10-21T05:18:30.952311Z",
     "iopub.status.idle": "2021-10-21T05:18:31.327893Z",
     "shell.execute_reply": "2021-10-21T05:18:31.327065Z",
     "shell.execute_reply.started": "2021-10-21T05:18:30.953010Z"
    }
   },
   "outputs": [],
   "source": [
    "l=sns.countplot(x='Media',data=dfQ42,order=dfQ42['Media'].value_counts().index)\n",
    "l.set_xticklabels(labels=dfQ42['Media'].value_counts().index,rotation=90)\n",
    "plt.show()"
   ]
  }
 ],
 "metadata": {
  "kernelspec": {
   "display_name": "Python 3 (ipykernel)",
   "language": "python",
   "name": "python3"
  },
  "language_info": {
   "codemirror_mode": {
    "name": "ipython",
    "version": 3
   },
   "file_extension": ".py",
   "mimetype": "text/x-python",
   "name": "python",
   "nbconvert_exporter": "python",
   "pygments_lexer": "ipython3",
   "version": "3.9.7"
  }
 },
 "nbformat": 4,
 "nbformat_minor": 4
}
